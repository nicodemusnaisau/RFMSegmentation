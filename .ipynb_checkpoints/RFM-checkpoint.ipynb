{
 "cells": [
  {
   "cell_type": "markdown",
   "id": "9ecba98c",
   "metadata": {},
   "source": [
    "# **Marketing Project - RFM Segmentation**\n",
    "\n",
    "Marketing and Customer Analytics"
   ]
  },
  {
   "cell_type": "markdown",
   "id": "afdd6df9",
   "metadata": {},
   "source": [
    "---\n",
    "\n",
    "**Outline**\n",
    "\n",
    "1. Business Understanding\n",
    "2. Modelling Workflow\n",
    "3. Data Pipelines\n",
    "4. EDA\n",
    "5. Preprocessing\n",
    "6. Clustering\n",
    "7. Business Recommendation"
   ]
  },
  {
   "cell_type": "code",
   "execution_count": 97,
   "id": "9e751819",
   "metadata": {},
   "outputs": [],
   "source": [
    "# Load data manipulation package\n",
    "import numpy as np\n",
    "import pandas as pd\n",
    "\n",
    "# Load data visualization package\n",
    "import matplotlib.pyplot as plt\n",
    "import seaborn as sns"
   ]
  },
  {
   "cell_type": "markdown",
   "id": "37e18e2a",
   "metadata": {},
   "source": [
    " # **1. Business Understanding**\n",
    " \n",
    "---"
   ]
  },
  {
   "cell_type": "markdown",
   "id": "72daa010",
   "metadata": {},
   "source": [
    "Company CoM has amassed a year's worth of data through scanning, and they intend to leverage this information to assess and expand their business operations. The primary objective is to gain a deeper understanding of customer personas. This initiative is driven by the need to evaluate sales performance and devise strategic plans for the coming year."
   ]
  },
  {
   "cell_type": "markdown",
   "id": "8706fa21",
   "metadata": {},
   "source": [
    "### **Business Objective**\n",
    "---\n",
    "\n",
    "- Enhanced Customer Understanding: RFM segmentation helps in categorizing customers based on their recent interactions (Recency), frequency of transactions (Frequency), and the monetary value of those transactions (Monetary Value). By applying RFM segmentation to the collected data, Company CoM can gain a more nuanced understanding of different customer groups and their behaviors.\n",
    "- Strategic Planning: The insights gained from RFM segmentation can inform the overall marketing strategy for the coming year."
   ]
  },
  {
   "cell_type": "markdown",
   "id": "69cfb818",
   "metadata": {},
   "source": [
    "### **Business Questions / Problem Statement**\n",
    "---\n",
    "\n",
    "- How can we effectively segment our customer base to better understand customer behavior and implement targeted marketing strategies?"
   ]
  },
  {
   "cell_type": "markdown",
   "id": "7d1f1f29",
   "metadata": {},
   "source": [
    "### **Define the Problem**\n",
    "---\n",
    "\n",
    "1. **What are the inputs?** based on scanner input there is records: recency, frequency, and monetary.\n",
    "2. **What are the outputs?** Customer Segments\n",
    "3. **What do we do with the segmentation?** The marketing team will strategize for maximizing company revenue by tailoring their approach to each segment identified through RFM analysis."
   ]
  },
  {
   "cell_type": "markdown",
   "id": "6f40af45",
   "metadata": {},
   "source": [
    "### **Modelling Task**\n",
    "---\n",
    "- **Task:**\n",
    "  - Clustering\n",
    "- **Model used:**\n",
    "  - K-means\n",
    "- **Cluster Evaluation:**\n",
    "  - Elbow method"
   ]
  },
  {
   "cell_type": "markdown",
   "id": "3228bf05",
   "metadata": {},
   "source": [
    "# **<font color='Blue'>2. Modelling Workflow </font>**\n",
    "---"
   ]
  },
  {
   "cell_type": "markdown",
   "id": "f17aebfe",
   "metadata": {},
   "source": [
    "## **Machine Learning Workflow** (Simplified)\n",
    "---\n",
    "\n",
    "### 1. <font color='blue'> Importing Data to Python</font>\n",
    "    * Data validation\n",
    "### 2. <font color='blue'> Exploratory Data Analysis</font>\n",
    "    * Data exploration\n",
    "### 3. <font color='blue'> Data Preprocessing</font>\n",
    "    * Missing value handling, feature engineering, and normalization\n",
    "### 4. <font color='blue'> Modeling</font>\n",
    "    * Finding best model\n",
    "### 5. <font color='blue'> Recommendation</font>\n",
    "    * Business recommendation and Actionable insights"
   ]
  },
  {
   "cell_type": "markdown",
   "id": "40abee5a",
   "metadata": {},
   "source": [
    "# <font color='Blue'> **3. Importing data to Python** </font>\n",
    "---"
   ]
  },
  {
   "cell_type": "markdown",
   "id": "5c1c9c1f",
   "metadata": {},
   "source": [
    "## **3.1 Data Description**\n",
    "---"
   ]
  },
  {
   "cell_type": "markdown",
   "id": "e8676867",
   "metadata": {},
   "source": [
    "- `Date`: This column likely contains the date on which a particular transaction took place. It helps in understanding when customer interactions occurred, which can be valuable for analyzing trends over time.\n",
    "\n",
    "- `Customer_ID`: This column likely contains unique identifiers for each customer. Customer IDs are essential for tracking individual customer behavior and preferences, allowing for the analysis of customer-specific data.\n",
    "\n",
    "- `Transaction_ID`: This column likely contains unique identifiers for each transaction. Transaction IDs are used to differentiate and identify individual transactions within the dataset.\n",
    "\n",
    "- `SKU_Category`: This column likely categorizes the products or services purchased in the transaction. It helps in classifying the type or category of items sold, which can be useful for product analysis and marketing strategies.\n",
    "\n",
    "- `SKU`: SKU stands for Stock Keeping Unit and represents unique identifiers for specific products or services. SKUs help in precisely identifying the items that were part of each transaction.\n",
    "\n",
    "- `Quantity`: This column likely indicates the quantity of the SKU (product or service) purchased in each transaction. It helps in understanding purchase volumes and customer preferences for specific items.\n",
    "\n",
    "- `Sales_Amount`: This column likely represents the total sales amount or revenue generated from each transaction. It typically includes the price of the SKU multiplied by the quantity purchased. It's a critical financial metric for analyzing transaction values and profitability."
   ]
  },
  {
   "cell_type": "markdown",
   "id": "9a2d9083",
   "metadata": {},
   "source": [
    "### **Preprocessed data:**\n",
    "---\n",
    "- **Frequency** <br>\n",
    "This metric assesses how often a customer interacts with the business. It is calculated by counting the number of transactions made by each customer.\n",
    "\n",
    "- **Tenure** <br>\n",
    "Tenure represents the 'age' of customers in terms of their relationship with the business. It is determined by subtracting the date of the customer's first purchase from the date of their last purchase.\n",
    "\n",
    "- **Recency** <br>\n",
    "Recency measures how recently a customer has engaged with the business. It is calculated by subtracting the customer's last purchase date from a reference date, typically today's date.\n",
    "\n",
    "- **Monetary** <br>\n",
    "Monetary value refers to the total worth of a customer's transactions or purchases. It is computed by multiplying the price of a product by the quantity ordered by the customer."
   ]
  },
  {
   "cell_type": "markdown",
   "id": "67083a72",
   "metadata": {},
   "source": [
    "## **3.2 Import Data**\n",
    "---"
   ]
  },
  {
   "cell_type": "markdown",
   "id": "5e05c41e",
   "metadata": {},
   "source": [
    "**Load the data first**"
   ]
  },
  {
   "cell_type": "code",
   "execution_count": 98,
   "id": "834430f1",
   "metadata": {},
   "outputs": [],
   "source": [
    "# read dataset function\n",
    "def read_data(path):\n",
    "    \"\"\"\n",
    "    Reads a CSV file at the given path, removes any duplicate rows,\n",
    "    and returns its contents as a pandas DataFrame.\n",
    "\n",
    "    Parameters\n",
    "    ----------\n",
    "    path : str\n",
    "        input path\n",
    "\n",
    "    Returns\n",
    "    -------\n",
    "    df : pandas Dataframe\n",
    "        Sample dataframe\n",
    "    \"\"\"\n",
    "    # 1. Read data\n",
    "    data = pd.read_csv(path,\n",
    "                       index_col = 0,\n",
    "                       low_memory = False) # Disable automatic type inference for memory efficiency\n",
    "\n",
    "    # 2. Drop duplicates\n",
    "    data = data.drop_duplicates()\n",
    "\n",
    "    # 3. print data shape\n",
    "    print('Data shape :', data.shape)\n",
    "\n",
    "    return data\n"
   ]
  },
  {
   "cell_type": "code",
   "execution_count": 99,
   "id": "96a7d537",
   "metadata": {},
   "outputs": [
    {
     "name": "stdout",
     "output_type": "stream",
     "text": [
      "Data shape : (131706, 7)\n"
     ]
    }
   ],
   "source": [
    "# Read data\n",
    "data = read_data(path = 'datasets/scanner_data.csv')"
   ]
  },
  {
   "cell_type": "code",
   "execution_count": 100,
   "id": "710071f9",
   "metadata": {},
   "outputs": [
    {
     "data": {
      "text/html": [
       "<div>\n",
       "<style scoped>\n",
       "    .dataframe tbody tr th:only-of-type {\n",
       "        vertical-align: middle;\n",
       "    }\n",
       "\n",
       "    .dataframe tbody tr th {\n",
       "        vertical-align: top;\n",
       "    }\n",
       "\n",
       "    .dataframe thead th {\n",
       "        text-align: right;\n",
       "    }\n",
       "</style>\n",
       "<table border=\"1\" class=\"dataframe\">\n",
       "  <thead>\n",
       "    <tr style=\"text-align: right;\">\n",
       "      <th></th>\n",
       "      <th>Date</th>\n",
       "      <th>Customer_ID</th>\n",
       "      <th>Transaction_ID</th>\n",
       "      <th>SKU_Category</th>\n",
       "      <th>SKU</th>\n",
       "      <th>Quantity</th>\n",
       "      <th>Sales_Amount</th>\n",
       "    </tr>\n",
       "  </thead>\n",
       "  <tbody>\n",
       "    <tr>\n",
       "      <th>1</th>\n",
       "      <td>02/01/2016</td>\n",
       "      <td>2547</td>\n",
       "      <td>1</td>\n",
       "      <td>X52</td>\n",
       "      <td>0EM7L</td>\n",
       "      <td>1.0</td>\n",
       "      <td>3.13</td>\n",
       "    </tr>\n",
       "    <tr>\n",
       "      <th>2</th>\n",
       "      <td>02/01/2016</td>\n",
       "      <td>822</td>\n",
       "      <td>2</td>\n",
       "      <td>2ML</td>\n",
       "      <td>68BRQ</td>\n",
       "      <td>1.0</td>\n",
       "      <td>5.46</td>\n",
       "    </tr>\n",
       "    <tr>\n",
       "      <th>3</th>\n",
       "      <td>02/01/2016</td>\n",
       "      <td>3686</td>\n",
       "      <td>3</td>\n",
       "      <td>0H2</td>\n",
       "      <td>CZUZX</td>\n",
       "      <td>1.0</td>\n",
       "      <td>6.35</td>\n",
       "    </tr>\n",
       "    <tr>\n",
       "      <th>4</th>\n",
       "      <td>02/01/2016</td>\n",
       "      <td>3719</td>\n",
       "      <td>4</td>\n",
       "      <td>0H2</td>\n",
       "      <td>549KK</td>\n",
       "      <td>1.0</td>\n",
       "      <td>5.59</td>\n",
       "    </tr>\n",
       "    <tr>\n",
       "      <th>5</th>\n",
       "      <td>02/01/2016</td>\n",
       "      <td>9200</td>\n",
       "      <td>5</td>\n",
       "      <td>0H2</td>\n",
       "      <td>K8EHH</td>\n",
       "      <td>1.0</td>\n",
       "      <td>6.88</td>\n",
       "    </tr>\n",
       "  </tbody>\n",
       "</table>\n",
       "</div>"
      ],
      "text/plain": [
       "         Date  Customer_ID  Transaction_ID SKU_Category    SKU  Quantity  \\\n",
       "1  02/01/2016         2547               1          X52  0EM7L       1.0   \n",
       "2  02/01/2016          822               2          2ML  68BRQ       1.0   \n",
       "3  02/01/2016         3686               3          0H2  CZUZX       1.0   \n",
       "4  02/01/2016         3719               4          0H2  549KK       1.0   \n",
       "5  02/01/2016         9200               5          0H2  K8EHH       1.0   \n",
       "\n",
       "   Sales_Amount  \n",
       "1          3.13  \n",
       "2          5.46  \n",
       "3          6.35  \n",
       "4          5.59  \n",
       "5          6.88  "
      ]
     },
     "execution_count": 100,
     "metadata": {},
     "output_type": "execute_result"
    }
   ],
   "source": [
    "# check the data\n",
    "data.head()"
   ]
  },
  {
   "cell_type": "code",
   "execution_count": 101,
   "id": "611f53b2",
   "metadata": {},
   "outputs": [
    {
     "data": {
      "text/plain": [
       "0"
      ]
     },
     "execution_count": 101,
     "metadata": {},
     "output_type": "execute_result"
    }
   ],
   "source": [
    "# check data duplicate\n",
    "data.duplicated().sum()"
   ]
  },
  {
   "cell_type": "markdown",
   "id": "8fd99fba",
   "metadata": {},
   "source": [
    "- There are no duplicates\n",
    "\n",
    "\n"
   ]
  },
  {
   "cell_type": "code",
   "execution_count": 102,
   "id": "2ddded6b",
   "metadata": {},
   "outputs": [
    {
     "data": {
      "text/plain": [
       "Date               object\n",
       "Customer_ID         int64\n",
       "Transaction_ID      int64\n",
       "SKU_Category       object\n",
       "SKU                object\n",
       "Quantity          float64\n",
       "Sales_Amount      float64\n",
       "dtype: object"
      ]
     },
     "execution_count": 102,
     "metadata": {},
     "output_type": "execute_result"
    }
   ],
   "source": [
    "# check data type\n",
    "data.dtypes"
   ]
  },
  {
   "cell_type": "markdown",
   "id": "1a4b1896",
   "metadata": {},
   "source": [
    "We know that\n",
    "- `Date` is a time series data, change the data type to time series."
   ]
  },
  {
   "cell_type": "code",
   "execution_count": 103,
   "id": "0fbaaf4f",
   "metadata": {},
   "outputs": [
    {
     "name": "stderr",
     "output_type": "stream",
     "text": [
      "C:\\Users\\Public\\Documents\\Wondershare\\CreatorTemp\\ipykernel_10500\\386555766.py:2: UserWarning: Parsing dates in DD/MM/YYYY format when dayfirst=False (the default) was specified. This may lead to inconsistently parsed dates! Specify a format to ensure consistent parsing.\n",
      "  data['Date'] = pd.to_datetime(data['Date'])\n"
     ]
    }
   ],
   "source": [
    "# change the data types for InvoiceDate\n",
    "data['Date'] = pd.to_datetime(data['Date'])"
   ]
  },
  {
   "cell_type": "code",
   "execution_count": 104,
   "id": "26e15599",
   "metadata": {},
   "outputs": [
    {
     "data": {
      "text/plain": [
       "Date              datetime64[ns]\n",
       "Customer_ID                int64\n",
       "Transaction_ID             int64\n",
       "SKU_Category              object\n",
       "SKU                       object\n",
       "Quantity                 float64\n",
       "Sales_Amount             float64\n",
       "dtype: object"
      ]
     },
     "execution_count": 104,
     "metadata": {},
     "output_type": "execute_result"
    }
   ],
   "source": [
    "# validate the data types\n",
    "data.dtypes"
   ]
  },
  {
   "cell_type": "markdown",
   "id": "8cf2cae6",
   "metadata": {},
   "source": [
    "Nice! Now you are ready to explore the data"
   ]
  },
  {
   "cell_type": "markdown",
   "id": "26784f33",
   "metadata": {},
   "source": [
    "# <font color='Blue'> **4. Exploratory Data Analysis** </font>\n",
    "---"
   ]
  },
  {
   "cell_type": "markdown",
   "id": "d3069087",
   "metadata": {},
   "source": [
    "Copy the data first, so that you wouldn't overwrite the current data"
   ]
  },
  {
   "cell_type": "code",
   "execution_count": 105,
   "id": "49c8906b",
   "metadata": {},
   "outputs": [
    {
     "name": "stdout",
     "output_type": "stream",
     "text": [
      "Original data shape : (131706, 7)\n",
      "EDA data shape      : (131706, 7)\n"
     ]
    }
   ],
   "source": [
    "eda_data = data.copy()\n",
    "\n",
    "# validate\n",
    "print('Original data shape :', data.shape)\n",
    "print('EDA data shape      :', eda_data.shape)"
   ]
  },
  {
   "cell_type": "markdown",
   "id": "47ddf900",
   "metadata": {},
   "source": [
    "## **EDA - PART 1**\n",
    "---"
   ]
  },
  {
   "cell_type": "markdown",
   "id": "fe082022",
   "metadata": {},
   "source": [
    "### **4.1. Check for data descriptions**\n",
    "---"
   ]
  },
  {
   "cell_type": "code",
   "execution_count": 106,
   "id": "6969908f",
   "metadata": {},
   "outputs": [
    {
     "data": {
      "text/html": [
       "<div>\n",
       "<style scoped>\n",
       "    .dataframe tbody tr th:only-of-type {\n",
       "        vertical-align: middle;\n",
       "    }\n",
       "\n",
       "    .dataframe tbody tr th {\n",
       "        vertical-align: top;\n",
       "    }\n",
       "\n",
       "    .dataframe thead th {\n",
       "        text-align: right;\n",
       "    }\n",
       "</style>\n",
       "<table border=\"1\" class=\"dataframe\">\n",
       "  <thead>\n",
       "    <tr style=\"text-align: right;\">\n",
       "      <th></th>\n",
       "      <th>Customer_ID</th>\n",
       "      <th>Transaction_ID</th>\n",
       "      <th>Quantity</th>\n",
       "      <th>Sales_Amount</th>\n",
       "    </tr>\n",
       "  </thead>\n",
       "  <tbody>\n",
       "    <tr>\n",
       "      <th>count</th>\n",
       "      <td>131706.000000</td>\n",
       "      <td>131706.000000</td>\n",
       "      <td>131706.000000</td>\n",
       "      <td>131706.000000</td>\n",
       "    </tr>\n",
       "    <tr>\n",
       "      <th>mean</th>\n",
       "      <td>12386.450367</td>\n",
       "      <td>32389.604187</td>\n",
       "      <td>1.485311</td>\n",
       "      <td>11.981524</td>\n",
       "    </tr>\n",
       "    <tr>\n",
       "      <th>std</th>\n",
       "      <td>6086.447552</td>\n",
       "      <td>18709.901238</td>\n",
       "      <td>3.872667</td>\n",
       "      <td>19.359699</td>\n",
       "    </tr>\n",
       "    <tr>\n",
       "      <th>min</th>\n",
       "      <td>1.000000</td>\n",
       "      <td>1.000000</td>\n",
       "      <td>0.010000</td>\n",
       "      <td>0.020000</td>\n",
       "    </tr>\n",
       "    <tr>\n",
       "      <th>25%</th>\n",
       "      <td>7349.000000</td>\n",
       "      <td>16134.000000</td>\n",
       "      <td>1.000000</td>\n",
       "      <td>4.230000</td>\n",
       "    </tr>\n",
       "    <tr>\n",
       "      <th>50%</th>\n",
       "      <td>13496.000000</td>\n",
       "      <td>32620.000000</td>\n",
       "      <td>1.000000</td>\n",
       "      <td>6.920000</td>\n",
       "    </tr>\n",
       "    <tr>\n",
       "      <th>75%</th>\n",
       "      <td>17306.000000</td>\n",
       "      <td>48548.000000</td>\n",
       "      <td>1.000000</td>\n",
       "      <td>12.330000</td>\n",
       "    </tr>\n",
       "    <tr>\n",
       "      <th>max</th>\n",
       "      <td>22625.000000</td>\n",
       "      <td>64682.000000</td>\n",
       "      <td>400.000000</td>\n",
       "      <td>707.730000</td>\n",
       "    </tr>\n",
       "  </tbody>\n",
       "</table>\n",
       "</div>"
      ],
      "text/plain": [
       "         Customer_ID  Transaction_ID       Quantity   Sales_Amount\n",
       "count  131706.000000   131706.000000  131706.000000  131706.000000\n",
       "mean    12386.450367    32389.604187       1.485311      11.981524\n",
       "std      6086.447552    18709.901238       3.872667      19.359699\n",
       "min         1.000000        1.000000       0.010000       0.020000\n",
       "25%      7349.000000    16134.000000       1.000000       4.230000\n",
       "50%     13496.000000    32620.000000       1.000000       6.920000\n",
       "75%     17306.000000    48548.000000       1.000000      12.330000\n",
       "max     22625.000000    64682.000000     400.000000     707.730000"
      ]
     },
     "execution_count": 106,
     "metadata": {},
     "output_type": "execute_result"
    }
   ],
   "source": [
    "eda_data.describe()"
   ]
  },
  {
   "cell_type": "markdown",
   "id": "5174eab3",
   "metadata": {},
   "source": []
  },
  {
   "cell_type": "markdown",
   "id": "9cbf6448",
   "metadata": {},
   "source": [
    "**Summary**\n",
    "- There are 131,706 rows in our dataset, which means we have data for 131,706 transactions or customers.\n",
    "- The `Quantity` and `Price` minimum value are positives.\n",
    "- There are some potential outliers on the data.\n",
    "- We have to exclude them."
   ]
  },
  {
   "cell_type": "markdown",
   "id": "276c0866",
   "metadata": {},
   "source": [
    "### **4.2. Check for missing values**\n",
    "---"
   ]
  },
  {
   "cell_type": "code",
   "execution_count": 107,
   "id": "f0c2320b",
   "metadata": {
    "scrolled": true
   },
   "outputs": [
    {
     "data": {
      "text/plain": [
       "Date              0\n",
       "Customer_ID       0\n",
       "Transaction_ID    0\n",
       "SKU_Category      0\n",
       "SKU               0\n",
       "Quantity          0\n",
       "Sales_Amount      0\n",
       "dtype: int64"
      ]
     },
     "execution_count": 107,
     "metadata": {},
     "output_type": "execute_result"
    }
   ],
   "source": [
    "eda_data.isna().sum()"
   ]
  },
  {
   "cell_type": "markdown",
   "id": "6064f58e",
   "metadata": {},
   "source": [
    "All the columns in the dataset are fully populated"
   ]
  },
  {
   "cell_type": "code",
   "execution_count": 108,
   "id": "c4991036",
   "metadata": {},
   "outputs": [
    {
     "data": {
      "text/plain": [
       "1348     21\n",
       "19098    21\n",
       "42295    20\n",
       "39032    19\n",
       "28731    19\n",
       "         ..\n",
       "28442     1\n",
       "28443     1\n",
       "28447     1\n",
       "28448     1\n",
       "32342     1\n",
       "Name: Transaction_ID, Length: 64682, dtype: int64"
      ]
     },
     "execution_count": 108,
     "metadata": {},
     "output_type": "execute_result"
    }
   ],
   "source": [
    "# Check for value counts\n",
    "eda_data['Transaction_ID'].value_counts()"
   ]
  },
  {
   "cell_type": "code",
   "execution_count": 109,
   "id": "6cceec3e",
   "metadata": {},
   "outputs": [
    {
     "data": {
      "text/html": [
       "<div>\n",
       "<style scoped>\n",
       "    .dataframe tbody tr th:only-of-type {\n",
       "        vertical-align: middle;\n",
       "    }\n",
       "\n",
       "    .dataframe tbody tr th {\n",
       "        vertical-align: top;\n",
       "    }\n",
       "\n",
       "    .dataframe thead th {\n",
       "        text-align: right;\n",
       "    }\n",
       "</style>\n",
       "<table border=\"1\" class=\"dataframe\">\n",
       "  <thead>\n",
       "    <tr style=\"text-align: right;\">\n",
       "      <th></th>\n",
       "      <th>Date</th>\n",
       "      <th>Customer_ID</th>\n",
       "      <th>Transaction_ID</th>\n",
       "      <th>SKU_Category</th>\n",
       "      <th>SKU</th>\n",
       "      <th>Quantity</th>\n",
       "      <th>Sales_Amount</th>\n",
       "    </tr>\n",
       "  </thead>\n",
       "  <tbody>\n",
       "    <tr>\n",
       "      <th>57807</th>\n",
       "      <td>2016-09-06</td>\n",
       "      <td>2750</td>\n",
       "      <td>28731</td>\n",
       "      <td>P42</td>\n",
       "      <td>7Y2WS</td>\n",
       "      <td>2.0</td>\n",
       "      <td>9.82</td>\n",
       "    </tr>\n",
       "    <tr>\n",
       "      <th>57808</th>\n",
       "      <td>2016-09-06</td>\n",
       "      <td>2750</td>\n",
       "      <td>28731</td>\n",
       "      <td>TVL</td>\n",
       "      <td>OTA6Z</td>\n",
       "      <td>4.0</td>\n",
       "      <td>16.09</td>\n",
       "    </tr>\n",
       "    <tr>\n",
       "      <th>57809</th>\n",
       "      <td>2016-09-06</td>\n",
       "      <td>2750</td>\n",
       "      <td>28731</td>\n",
       "      <td>2ML</td>\n",
       "      <td>7QUXS</td>\n",
       "      <td>2.0</td>\n",
       "      <td>6.27</td>\n",
       "    </tr>\n",
       "    <tr>\n",
       "      <th>57810</th>\n",
       "      <td>2016-09-06</td>\n",
       "      <td>2750</td>\n",
       "      <td>28731</td>\n",
       "      <td>2LA</td>\n",
       "      <td>6ED7U</td>\n",
       "      <td>2.0</td>\n",
       "      <td>10.63</td>\n",
       "    </tr>\n",
       "    <tr>\n",
       "      <th>57811</th>\n",
       "      <td>2016-09-06</td>\n",
       "      <td>2750</td>\n",
       "      <td>28731</td>\n",
       "      <td>8H8</td>\n",
       "      <td>VKMQ4</td>\n",
       "      <td>2.0</td>\n",
       "      <td>5.56</td>\n",
       "    </tr>\n",
       "    <tr>\n",
       "      <th>57812</th>\n",
       "      <td>2016-09-06</td>\n",
       "      <td>2750</td>\n",
       "      <td>28731</td>\n",
       "      <td>XG4</td>\n",
       "      <td>IQNBU</td>\n",
       "      <td>1.0</td>\n",
       "      <td>6.62</td>\n",
       "    </tr>\n",
       "    <tr>\n",
       "      <th>57813</th>\n",
       "      <td>2016-09-06</td>\n",
       "      <td>2750</td>\n",
       "      <td>28731</td>\n",
       "      <td>XAE</td>\n",
       "      <td>7TUN3</td>\n",
       "      <td>2.0</td>\n",
       "      <td>16.91</td>\n",
       "    </tr>\n",
       "    <tr>\n",
       "      <th>57814</th>\n",
       "      <td>2016-09-06</td>\n",
       "      <td>2750</td>\n",
       "      <td>28731</td>\n",
       "      <td>2ML</td>\n",
       "      <td>3SZO0</td>\n",
       "      <td>2.0</td>\n",
       "      <td>18.83</td>\n",
       "    </tr>\n",
       "    <tr>\n",
       "      <th>57815</th>\n",
       "      <td>2016-09-06</td>\n",
       "      <td>2750</td>\n",
       "      <td>28731</td>\n",
       "      <td>FZT</td>\n",
       "      <td>GJUAD</td>\n",
       "      <td>1.0</td>\n",
       "      <td>4.91</td>\n",
       "    </tr>\n",
       "    <tr>\n",
       "      <th>57816</th>\n",
       "      <td>2016-09-06</td>\n",
       "      <td>2750</td>\n",
       "      <td>28731</td>\n",
       "      <td>N8U</td>\n",
       "      <td>85WDI</td>\n",
       "      <td>4.0</td>\n",
       "      <td>4.77</td>\n",
       "    </tr>\n",
       "    <tr>\n",
       "      <th>57817</th>\n",
       "      <td>2016-09-06</td>\n",
       "      <td>2750</td>\n",
       "      <td>28731</td>\n",
       "      <td>N5F</td>\n",
       "      <td>J83KR</td>\n",
       "      <td>1.0</td>\n",
       "      <td>6.00</td>\n",
       "    </tr>\n",
       "    <tr>\n",
       "      <th>57818</th>\n",
       "      <td>2016-09-06</td>\n",
       "      <td>2750</td>\n",
       "      <td>28731</td>\n",
       "      <td>N8U</td>\n",
       "      <td>EMJ1S</td>\n",
       "      <td>1.0</td>\n",
       "      <td>3.68</td>\n",
       "    </tr>\n",
       "    <tr>\n",
       "      <th>57819</th>\n",
       "      <td>2016-09-06</td>\n",
       "      <td>2750</td>\n",
       "      <td>28731</td>\n",
       "      <td>X52</td>\n",
       "      <td>CRK31</td>\n",
       "      <td>1.0</td>\n",
       "      <td>4.02</td>\n",
       "    </tr>\n",
       "    <tr>\n",
       "      <th>57820</th>\n",
       "      <td>2016-09-06</td>\n",
       "      <td>2750</td>\n",
       "      <td>28731</td>\n",
       "      <td>H8O</td>\n",
       "      <td>CWKLC</td>\n",
       "      <td>2.0</td>\n",
       "      <td>10.50</td>\n",
       "    </tr>\n",
       "    <tr>\n",
       "      <th>57821</th>\n",
       "      <td>2016-09-06</td>\n",
       "      <td>2750</td>\n",
       "      <td>28731</td>\n",
       "      <td>PZW</td>\n",
       "      <td>3NZ9P</td>\n",
       "      <td>1.0</td>\n",
       "      <td>3.56</td>\n",
       "    </tr>\n",
       "    <tr>\n",
       "      <th>57822</th>\n",
       "      <td>2016-09-06</td>\n",
       "      <td>2750</td>\n",
       "      <td>28731</td>\n",
       "      <td>ZX5</td>\n",
       "      <td>HV0P3</td>\n",
       "      <td>4.0</td>\n",
       "      <td>25.99</td>\n",
       "    </tr>\n",
       "    <tr>\n",
       "      <th>57823</th>\n",
       "      <td>2016-09-06</td>\n",
       "      <td>2750</td>\n",
       "      <td>28731</td>\n",
       "      <td>JPI</td>\n",
       "      <td>MKV69</td>\n",
       "      <td>2.0</td>\n",
       "      <td>3.13</td>\n",
       "    </tr>\n",
       "    <tr>\n",
       "      <th>57824</th>\n",
       "      <td>2016-09-06</td>\n",
       "      <td>2750</td>\n",
       "      <td>28731</td>\n",
       "      <td>JPI</td>\n",
       "      <td>S4HQP</td>\n",
       "      <td>2.0</td>\n",
       "      <td>3.68</td>\n",
       "    </tr>\n",
       "    <tr>\n",
       "      <th>57825</th>\n",
       "      <td>2016-09-06</td>\n",
       "      <td>2750</td>\n",
       "      <td>28731</td>\n",
       "      <td>X52</td>\n",
       "      <td>TASND</td>\n",
       "      <td>2.0</td>\n",
       "      <td>7.77</td>\n",
       "    </tr>\n",
       "  </tbody>\n",
       "</table>\n",
       "</div>"
      ],
      "text/plain": [
       "            Date  Customer_ID  Transaction_ID SKU_Category    SKU  Quantity  \\\n",
       "57807 2016-09-06         2750           28731          P42  7Y2WS       2.0   \n",
       "57808 2016-09-06         2750           28731          TVL  OTA6Z       4.0   \n",
       "57809 2016-09-06         2750           28731          2ML  7QUXS       2.0   \n",
       "57810 2016-09-06         2750           28731          2LA  6ED7U       2.0   \n",
       "57811 2016-09-06         2750           28731          8H8  VKMQ4       2.0   \n",
       "57812 2016-09-06         2750           28731          XG4  IQNBU       1.0   \n",
       "57813 2016-09-06         2750           28731          XAE  7TUN3       2.0   \n",
       "57814 2016-09-06         2750           28731          2ML  3SZO0       2.0   \n",
       "57815 2016-09-06         2750           28731          FZT  GJUAD       1.0   \n",
       "57816 2016-09-06         2750           28731          N8U  85WDI       4.0   \n",
       "57817 2016-09-06         2750           28731          N5F  J83KR       1.0   \n",
       "57818 2016-09-06         2750           28731          N8U  EMJ1S       1.0   \n",
       "57819 2016-09-06         2750           28731          X52  CRK31       1.0   \n",
       "57820 2016-09-06         2750           28731          H8O  CWKLC       2.0   \n",
       "57821 2016-09-06         2750           28731          PZW  3NZ9P       1.0   \n",
       "57822 2016-09-06         2750           28731          ZX5  HV0P3       4.0   \n",
       "57823 2016-09-06         2750           28731          JPI  MKV69       2.0   \n",
       "57824 2016-09-06         2750           28731          JPI  S4HQP       2.0   \n",
       "57825 2016-09-06         2750           28731          X52  TASND       2.0   \n",
       "\n",
       "       Sales_Amount  \n",
       "57807          9.82  \n",
       "57808         16.09  \n",
       "57809          6.27  \n",
       "57810         10.63  \n",
       "57811          5.56  \n",
       "57812          6.62  \n",
       "57813         16.91  \n",
       "57814         18.83  \n",
       "57815          4.91  \n",
       "57816          4.77  \n",
       "57817          6.00  \n",
       "57818          3.68  \n",
       "57819          4.02  \n",
       "57820         10.50  \n",
       "57821          3.56  \n",
       "57822         25.99  \n",
       "57823          3.13  \n",
       "57824          3.68  \n",
       "57825          7.77  "
      ]
     },
     "execution_count": 109,
     "metadata": {},
     "output_type": "execute_result"
    }
   ],
   "source": [
    "# Check invoice duplicates\n",
    "eda_data[eda_data['Transaction_ID'] == 28731]"
   ]
  },
  {
   "cell_type": "code",
   "execution_count": 110,
   "id": "9002819c",
   "metadata": {},
   "outputs": [
    {
     "data": {
      "text/plain": [
       "2016-09-06    19\n",
       "Name: Date, dtype: int64"
      ]
     },
     "execution_count": 110,
     "metadata": {},
     "output_type": "execute_result"
    }
   ],
   "source": [
    "# Check invoice duplicate dates\n",
    "eda_data[eda_data['Transaction_ID'] == 28731]['Date'].value_counts()"
   ]
  },
  {
   "cell_type": "markdown",
   "id": "78c3872d",
   "metadata": {},
   "source": [
    "There are 19 number of items in a single transaction in Transaction_ID 28731."
   ]
  },
  {
   "cell_type": "markdown",
   "id": "a9b3633c",
   "metadata": {},
   "source": [
    "**Summary**\n",
    "- To calculate `Frequency`, do not use count of `Transaction_ID`, but count of **unique** `Transaction_ID`"
   ]
  },
  {
   "cell_type": "markdown",
   "id": "83236687",
   "metadata": {},
   "source": [
    "### **4.4. Check for `Customer ID`**\n",
    "---"
   ]
  },
  {
   "cell_type": "markdown",
   "id": "678f358a",
   "metadata": {},
   "source": [
    "Check for the number of unique `Customer ID`"
   ]
  },
  {
   "cell_type": "code",
   "execution_count": 111,
   "id": "0cd56c2c",
   "metadata": {},
   "outputs": [
    {
     "data": {
      "text/plain": [
       "22625"
      ]
     },
     "execution_count": 111,
     "metadata": {},
     "output_type": "execute_result"
    }
   ],
   "source": [
    "# number of unique customer ID\n",
    "len(set(eda_data['Customer_ID']))"
   ]
  },
  {
   "cell_type": "markdown",
   "id": "ffbf075c",
   "metadata": {},
   "source": [
    "### **4.5. Check `InvoiceDate`**\n",
    "---"
   ]
  },
  {
   "cell_type": "code",
   "execution_count": 112,
   "id": "dcd8548e",
   "metadata": {},
   "outputs": [
    {
     "name": "stdout",
     "output_type": "stream",
     "text": [
      "First Transaction : 2016-01-02 00:00:00\n",
      "Last Transaction  : 2016-12-31 00:00:00\n"
     ]
    }
   ],
   "source": [
    "# check transaction data (first and last transaction)\n",
    "print(f'First Transaction : {str(eda_data[\"Date\"].min())}')\n",
    "print(f'Last Transaction  : {str(eda_data[\"Date\"].max())}')"
   ]
  },
  {
   "cell_type": "markdown",
   "id": "ad1f1c74",
   "metadata": {},
   "source": [
    " first transaction on January 2, 2016, at 00:00:00 (midnight) to the last transaction on December 31, 2016, at 00:00:00 (midnight). This time frame spans the entire year of 2016."
   ]
  },
  {
   "cell_type": "markdown",
   "id": "7038cae0",
   "metadata": {},
   "source": [
    "### **4.6. Create RFM features**\n",
    "---"
   ]
  },
  {
   "cell_type": "markdown",
   "id": "09fed8ff",
   "metadata": {},
   "source": [
    "First, set the **latest date**.\n",
    "- Because last transaction is 2016-12-31, we can set 2017-01-02 as a possible reference days (not too far away from the day of the last transaction)"
   ]
  },
  {
   "cell_type": "code",
   "execution_count": 113,
   "id": "4c35d3ff",
   "metadata": {},
   "outputs": [
    {
     "data": {
      "text/plain": [
       "Timestamp('2017-01-02 00:00:00')"
      ]
     },
     "execution_count": 113,
     "metadata": {},
     "output_type": "execute_result"
    }
   ],
   "source": [
    "# Set a reference date\n",
    "LATEST_DATE = pd.to_datetime('2017-01-02')\n",
    "\n",
    "LATEST_DATE"
   ]
  },
  {
   "cell_type": "markdown",
   "id": "e80af25b",
   "metadata": {},
   "source": [
    "After that we can create the RFM-T features"
   ]
  },
  {
   "cell_type": "markdown",
   "id": "22e23fee",
   "metadata": {},
   "source": [
    "- **Recency** (R) <br>\n",
    "Recency refers to the time elapsed since a customer's last interaction or transaction with a company.\n",
    "It measures **how recently a customer has engaged** with the business\n",
    "\n",
    "- **Frequency** (F)<br>\n",
    "Frequency represents the number of transaction occurs.\n",
    "It measures how often a customer engages with the business.\n",
    "\n",
    "- **Monetary** (M)<br>\n",
    "Monetary refers to the total monetary value of a customer's transactions or purchases.\n",
    "\n",
    "- **Tenure** (T) <br>\n",
    "The length of time a customer remains a customer **until the latest date**\n",
    "\n",
    "\n",
    "<br>\n",
    "\n",
    "*Reference:*<br>\n",
    "Christy, A.J., Umamakeswari, A., Priyatharsini, L., Neyaa, A., RFM Ranking – An Effective Approach to Customer Segmentation, Journal of King Saud University - Computer and Information Sciences (2018),"
   ]
  },
  {
   "cell_type": "code",
   "execution_count": 114,
   "id": "d0ef0019",
   "metadata": {},
   "outputs": [
    {
     "name": "stdout",
     "output_type": "stream",
     "text": [
      "<class 'pandas.core.frame.DataFrame'>\n",
      "Int64Index: 131706 entries, 1 to 131706\n",
      "Data columns (total 7 columns):\n",
      " #   Column          Non-Null Count   Dtype         \n",
      "---  ------          --------------   -----         \n",
      " 0   Date            131706 non-null  datetime64[ns]\n",
      " 1   Customer_ID     131706 non-null  int64         \n",
      " 2   Transaction_ID  131706 non-null  int64         \n",
      " 3   SKU_Category    131706 non-null  object        \n",
      " 4   SKU             131706 non-null  object        \n",
      " 5   Quantity        131706 non-null  float64       \n",
      " 6   Sales_Amount    131706 non-null  float64       \n",
      "dtypes: datetime64[ns](1), float64(2), int64(2), object(2)\n",
      "memory usage: 8.0+ MB\n"
     ]
    }
   ],
   "source": [
    "data.info()"
   ]
  },
  {
   "cell_type": "code",
   "execution_count": 115,
   "id": "1834795c",
   "metadata": {},
   "outputs": [],
   "source": [
    "# Define some functions\n",
    "def calculate_recency(x):\n",
    "    \"\"\"Calculate the recency (days) based on the reference date\"\"\"\n",
    "    return (LATEST_DATE - x.max()).days\n",
    "\n",
    "def calculate_tenure(x):\n",
    "    \"\"\"Calculate the tenure (days) based on the reference date\"\"\"\n",
    "    return (x.max() - x.min()).days\n",
    "\n",
    "def calculate_frequency(x):\n",
    "    \"\"\"Calculate the frequency based on the latest date\"\"\"\n",
    "    return len(set(x))\n",
    "\n",
    "def generate_rfmts(data):\n",
    "    \"\"\"\n",
    "    Function to generate the RFM + TS data\n",
    "\n",
    "    Parameter\n",
    "    ---------\n",
    "    data : pandas Dataframe\n",
    "        The sample data\n",
    "\n",
    "    Return\n",
    "    ------\n",
    "    rfmts_data : pandas Dataframe\n",
    "        The RFM + TS data\n",
    "    \"\"\"\n",
    "#     1. Create sales data --> sales = quantity x price\n",
    "    data['Sales_Amount'] = data['Sales_Amount'] \n",
    "\n",
    "    # 2. Groupby by `Customer ID` to generate the RFM + TS data\n",
    "    agg_dict = {\n",
    "        'Date': [calculate_recency, calculate_tenure],\n",
    "        'Transaction_ID': calculate_frequency,\n",
    "        'Sales_Amount': 'sum'\n",
    "    }\n",
    "    data_rfmts = data.groupby('Customer_ID').agg(agg_dict)\n",
    "\n",
    "    # 3. Rename columns\n",
    "    data_rfmts.columns = ['Recency', 'Tenure', 'Frequency', 'Monetary']\n",
    "\n",
    "    # 4. Change index type\n",
    "    data_rfmts.index = data_rfmts.index.astype('int')\n",
    "\n",
    "    return data_rfmts"
   ]
  },
  {
   "cell_type": "code",
   "execution_count": 116,
   "id": "e73d4227",
   "metadata": {},
   "outputs": [
    {
     "name": "stdout",
     "output_type": "stream",
     "text": [
      "RFM data shape : (22625, 4)\n"
     ]
    }
   ],
   "source": [
    "eda_rfm_data = generate_rfmts(data = eda_data)\n",
    "\n",
    "# Validate\n",
    "# rows of eda_rfm_data == number of unique customer ID\n",
    "print('RFM data shape :', eda_rfm_data.shape)\n",
    "assert eda_rfm_data.shape[0] == len(set(eda_data['Customer_ID']))"
   ]
  },
  {
   "cell_type": "markdown",
   "id": "882f2e66",
   "metadata": {},
   "source": [
    "**In summary**, the data is valid, and it's worth noting that the number of rows in the RFM dataset matches the count of unique customer IDs, indicating that there are no duplicate customer records. This consistency adds to the reliability of the dataset for analysis and decision-making."
   ]
  },
  {
   "cell_type": "code",
   "execution_count": 117,
   "id": "7cf7e9c5",
   "metadata": {},
   "outputs": [
    {
     "data": {
      "text/html": [
       "<div>\n",
       "<style scoped>\n",
       "    .dataframe tbody tr th:only-of-type {\n",
       "        vertical-align: middle;\n",
       "    }\n",
       "\n",
       "    .dataframe tbody tr th {\n",
       "        vertical-align: top;\n",
       "    }\n",
       "\n",
       "    .dataframe thead th {\n",
       "        text-align: right;\n",
       "    }\n",
       "</style>\n",
       "<table border=\"1\" class=\"dataframe\">\n",
       "  <thead>\n",
       "    <tr style=\"text-align: right;\">\n",
       "      <th></th>\n",
       "      <th>Recency</th>\n",
       "      <th>Tenure</th>\n",
       "      <th>Frequency</th>\n",
       "      <th>Monetary</th>\n",
       "    </tr>\n",
       "    <tr>\n",
       "      <th>Customer_ID</th>\n",
       "      <th></th>\n",
       "      <th></th>\n",
       "      <th></th>\n",
       "      <th></th>\n",
       "    </tr>\n",
       "  </thead>\n",
       "  <tbody>\n",
       "    <tr>\n",
       "      <th>1</th>\n",
       "      <td>346</td>\n",
       "      <td>0</td>\n",
       "      <td>1</td>\n",
       "      <td>16.29</td>\n",
       "    </tr>\n",
       "    <tr>\n",
       "      <th>2</th>\n",
       "      <td>197</td>\n",
       "      <td>87</td>\n",
       "      <td>2</td>\n",
       "      <td>22.77</td>\n",
       "    </tr>\n",
       "    <tr>\n",
       "      <th>3</th>\n",
       "      <td>336</td>\n",
       "      <td>0</td>\n",
       "      <td>1</td>\n",
       "      <td>10.92</td>\n",
       "    </tr>\n",
       "    <tr>\n",
       "      <th>4</th>\n",
       "      <td>56</td>\n",
       "      <td>57</td>\n",
       "      <td>2</td>\n",
       "      <td>33.29</td>\n",
       "    </tr>\n",
       "    <tr>\n",
       "      <th>5</th>\n",
       "      <td>122</td>\n",
       "      <td>193</td>\n",
       "      <td>5</td>\n",
       "      <td>78.82</td>\n",
       "    </tr>\n",
       "  </tbody>\n",
       "</table>\n",
       "</div>"
      ],
      "text/plain": [
       "             Recency  Tenure  Frequency  Monetary\n",
       "Customer_ID                                      \n",
       "1                346       0          1     16.29\n",
       "2                197      87          2     22.77\n",
       "3                336       0          1     10.92\n",
       "4                 56      57          2     33.29\n",
       "5                122     193          5     78.82"
      ]
     },
     "execution_count": 117,
     "metadata": {},
     "output_type": "execute_result"
    }
   ],
   "source": [
    "# Sanity check\n",
    "eda_rfm_data.head()"
   ]
  },
  {
   "cell_type": "markdown",
   "id": "4cb5e2f4",
   "metadata": {},
   "source": [
    "Now that we have our RFM+T dataset ready, it's time to dive deeper into it with the second part of our Exploratory Data Analysis (EDA). In this phase, we'll conduct a more thorough exploration of the data to uncover insights, patterns, and trends. "
   ]
  },
  {
   "cell_type": "markdown",
   "id": "11c95139",
   "metadata": {},
   "source": [
    "In this section, let's explore the RFM datasets"
   ]
  },
  {
   "cell_type": "markdown",
   "id": "42fb710b",
   "metadata": {},
   "source": [
    "### **4.7. Check for data description**\n",
    "--- "
   ]
  },
  {
   "cell_type": "code",
   "execution_count": 118,
   "id": "122a4749",
   "metadata": {
    "scrolled": true
   },
   "outputs": [
    {
     "data": {
      "text/html": [
       "<div>\n",
       "<style scoped>\n",
       "    .dataframe tbody tr th:only-of-type {\n",
       "        vertical-align: middle;\n",
       "    }\n",
       "\n",
       "    .dataframe tbody tr th {\n",
       "        vertical-align: top;\n",
       "    }\n",
       "\n",
       "    .dataframe thead th {\n",
       "        text-align: right;\n",
       "    }\n",
       "</style>\n",
       "<table border=\"1\" class=\"dataframe\">\n",
       "  <thead>\n",
       "    <tr style=\"text-align: right;\">\n",
       "      <th></th>\n",
       "      <th>Recency</th>\n",
       "      <th>Tenure</th>\n",
       "      <th>Frequency</th>\n",
       "      <th>Monetary</th>\n",
       "    </tr>\n",
       "  </thead>\n",
       "  <tbody>\n",
       "    <tr>\n",
       "      <th>count</th>\n",
       "      <td>22625.000000</td>\n",
       "      <td>22625.000000</td>\n",
       "      <td>22625.000000</td>\n",
       "      <td>22625.000000</td>\n",
       "    </tr>\n",
       "    <tr>\n",
       "      <th>mean</th>\n",
       "      <td>146.408796</td>\n",
       "      <td>80.076729</td>\n",
       "      <td>2.858873</td>\n",
       "      <td>69.747563</td>\n",
       "    </tr>\n",
       "    <tr>\n",
       "      <th>std</th>\n",
       "      <td>109.263227</td>\n",
       "      <td>109.269514</td>\n",
       "      <td>4.000157</td>\n",
       "      <td>152.307769</td>\n",
       "    </tr>\n",
       "    <tr>\n",
       "      <th>min</th>\n",
       "      <td>2.000000</td>\n",
       "      <td>0.000000</td>\n",
       "      <td>1.000000</td>\n",
       "      <td>0.140000</td>\n",
       "    </tr>\n",
       "    <tr>\n",
       "      <th>25%</th>\n",
       "      <td>46.000000</td>\n",
       "      <td>0.000000</td>\n",
       "      <td>1.000000</td>\n",
       "      <td>10.170000</td>\n",
       "    </tr>\n",
       "    <tr>\n",
       "      <th>50%</th>\n",
       "      <td>122.000000</td>\n",
       "      <td>0.000000</td>\n",
       "      <td>1.000000</td>\n",
       "      <td>23.850000</td>\n",
       "    </tr>\n",
       "    <tr>\n",
       "      <th>75%</th>\n",
       "      <td>244.000000</td>\n",
       "      <td>161.000000</td>\n",
       "      <td>3.000000</td>\n",
       "      <td>63.070000</td>\n",
       "    </tr>\n",
       "    <tr>\n",
       "      <th>max</th>\n",
       "      <td>366.000000</td>\n",
       "      <td>363.000000</td>\n",
       "      <td>99.000000</td>\n",
       "      <td>3985.940000</td>\n",
       "    </tr>\n",
       "  </tbody>\n",
       "</table>\n",
       "</div>"
      ],
      "text/plain": [
       "            Recency        Tenure     Frequency      Monetary\n",
       "count  22625.000000  22625.000000  22625.000000  22625.000000\n",
       "mean     146.408796     80.076729      2.858873     69.747563\n",
       "std      109.263227    109.269514      4.000157    152.307769\n",
       "min        2.000000      0.000000      1.000000      0.140000\n",
       "25%       46.000000      0.000000      1.000000     10.170000\n",
       "50%      122.000000      0.000000      1.000000     23.850000\n",
       "75%      244.000000    161.000000      3.000000     63.070000\n",
       "max      366.000000    363.000000     99.000000   3985.940000"
      ]
     },
     "execution_count": 118,
     "metadata": {},
     "output_type": "execute_result"
    }
   ],
   "source": [
    "eda_rfm_data.describe()"
   ]
  },
  {
   "cell_type": "markdown",
   "id": "562dfd8c",
   "metadata": {},
   "source": [
    "**Summary**\n",
    "- There is no negative value of `Recency`, `Tenure`, `Frequency` and `Monetary`.\n",
    "- All variables are valid.\n",
    "- There is an oddly high number of `Frequency` and `Monetary`. We might have to remove that."
   ]
  },
  {
   "cell_type": "markdown",
   "id": "eedf83c4",
   "metadata": {},
   "source": [
    "### **4.8. Check for `Frequency`**\n",
    "---"
   ]
  },
  {
   "cell_type": "markdown",
   "id": "3ac5c640",
   "metadata": {},
   "source": [
    "There are many one time buyers, i.e. `Frequency == 1`."
   ]
  },
  {
   "cell_type": "code",
   "execution_count": 119,
   "id": "3b8d1a53",
   "metadata": {},
   "outputs": [
    {
     "data": {
      "text/html": [
       "<div>\n",
       "<style scoped>\n",
       "    .dataframe tbody tr th:only-of-type {\n",
       "        vertical-align: middle;\n",
       "    }\n",
       "\n",
       "    .dataframe tbody tr th {\n",
       "        vertical-align: top;\n",
       "    }\n",
       "\n",
       "    .dataframe thead th {\n",
       "        text-align: right;\n",
       "    }\n",
       "</style>\n",
       "<table border=\"1\" class=\"dataframe\">\n",
       "  <thead>\n",
       "    <tr style=\"text-align: right;\">\n",
       "      <th></th>\n",
       "      <th>Recency</th>\n",
       "      <th>Tenure</th>\n",
       "      <th>Frequency</th>\n",
       "      <th>Monetary</th>\n",
       "    </tr>\n",
       "    <tr>\n",
       "      <th>Customer_ID</th>\n",
       "      <th></th>\n",
       "      <th></th>\n",
       "      <th></th>\n",
       "      <th></th>\n",
       "    </tr>\n",
       "  </thead>\n",
       "  <tbody>\n",
       "    <tr>\n",
       "      <th>1</th>\n",
       "      <td>346</td>\n",
       "      <td>0</td>\n",
       "      <td>1</td>\n",
       "      <td>16.29</td>\n",
       "    </tr>\n",
       "    <tr>\n",
       "      <th>3</th>\n",
       "      <td>336</td>\n",
       "      <td>0</td>\n",
       "      <td>1</td>\n",
       "      <td>10.92</td>\n",
       "    </tr>\n",
       "    <tr>\n",
       "      <th>6</th>\n",
       "      <td>277</td>\n",
       "      <td>0</td>\n",
       "      <td>1</td>\n",
       "      <td>25.55</td>\n",
       "    </tr>\n",
       "    <tr>\n",
       "      <th>7</th>\n",
       "      <td>237</td>\n",
       "      <td>0</td>\n",
       "      <td>1</td>\n",
       "      <td>17.84</td>\n",
       "    </tr>\n",
       "    <tr>\n",
       "      <th>8</th>\n",
       "      <td>195</td>\n",
       "      <td>0</td>\n",
       "      <td>1</td>\n",
       "      <td>9.78</td>\n",
       "    </tr>\n",
       "    <tr>\n",
       "      <th>...</th>\n",
       "      <td>...</td>\n",
       "      <td>...</td>\n",
       "      <td>...</td>\n",
       "      <td>...</td>\n",
       "    </tr>\n",
       "    <tr>\n",
       "      <th>22620</th>\n",
       "      <td>357</td>\n",
       "      <td>0</td>\n",
       "      <td>1</td>\n",
       "      <td>8.60</td>\n",
       "    </tr>\n",
       "    <tr>\n",
       "      <th>22621</th>\n",
       "      <td>82</td>\n",
       "      <td>0</td>\n",
       "      <td>1</td>\n",
       "      <td>9.69</td>\n",
       "    </tr>\n",
       "    <tr>\n",
       "      <th>22622</th>\n",
       "      <td>17</td>\n",
       "      <td>0</td>\n",
       "      <td>1</td>\n",
       "      <td>6.07</td>\n",
       "    </tr>\n",
       "    <tr>\n",
       "      <th>22623</th>\n",
       "      <td>12</td>\n",
       "      <td>0</td>\n",
       "      <td>1</td>\n",
       "      <td>128.01</td>\n",
       "    </tr>\n",
       "    <tr>\n",
       "      <th>22624</th>\n",
       "      <td>325</td>\n",
       "      <td>0</td>\n",
       "      <td>1</td>\n",
       "      <td>19.60</td>\n",
       "    </tr>\n",
       "  </tbody>\n",
       "</table>\n",
       "<p>11535 rows × 4 columns</p>\n",
       "</div>"
      ],
      "text/plain": [
       "             Recency  Tenure  Frequency  Monetary\n",
       "Customer_ID                                      \n",
       "1                346       0          1     16.29\n",
       "3                336       0          1     10.92\n",
       "6                277       0          1     25.55\n",
       "7                237       0          1     17.84\n",
       "8                195       0          1      9.78\n",
       "...              ...     ...        ...       ...\n",
       "22620            357       0          1      8.60\n",
       "22621             82       0          1      9.69\n",
       "22622             17       0          1      6.07\n",
       "22623             12       0          1    128.01\n",
       "22624            325       0          1     19.60\n",
       "\n",
       "[11535 rows x 4 columns]"
      ]
     },
     "execution_count": 119,
     "metadata": {},
     "output_type": "execute_result"
    }
   ],
   "source": [
    "eda_rfm_data[eda_rfm_data['Frequency'] == 1]"
   ]
  },
  {
   "cell_type": "markdown",
   "id": "95ce5ac2",
   "metadata": {},
   "source": [
    "- Check customer with tenure = 0\n",
    "- We want to know is there any customer with tenure = 0 but frequency > 1"
   ]
  },
  {
   "cell_type": "code",
   "execution_count": 120,
   "id": "537b1bc4",
   "metadata": {},
   "outputs": [
    {
     "data": {
      "text/html": [
       "<div>\n",
       "<style scoped>\n",
       "    .dataframe tbody tr th:only-of-type {\n",
       "        vertical-align: middle;\n",
       "    }\n",
       "\n",
       "    .dataframe tbody tr th {\n",
       "        vertical-align: top;\n",
       "    }\n",
       "\n",
       "    .dataframe thead th {\n",
       "        text-align: right;\n",
       "    }\n",
       "</style>\n",
       "<table border=\"1\" class=\"dataframe\">\n",
       "  <thead>\n",
       "    <tr style=\"text-align: right;\">\n",
       "      <th></th>\n",
       "      <th>Recency</th>\n",
       "      <th>Tenure</th>\n",
       "      <th>Frequency</th>\n",
       "      <th>Monetary</th>\n",
       "    </tr>\n",
       "    <tr>\n",
       "      <th>Customer_ID</th>\n",
       "      <th></th>\n",
       "      <th></th>\n",
       "      <th></th>\n",
       "      <th></th>\n",
       "    </tr>\n",
       "  </thead>\n",
       "  <tbody>\n",
       "    <tr>\n",
       "      <th>3101</th>\n",
       "      <td>261</td>\n",
       "      <td>0</td>\n",
       "      <td>1</td>\n",
       "      <td>1.09</td>\n",
       "    </tr>\n",
       "    <tr>\n",
       "      <th>3926</th>\n",
       "      <td>340</td>\n",
       "      <td>0</td>\n",
       "      <td>1</td>\n",
       "      <td>11.25</td>\n",
       "    </tr>\n",
       "    <tr>\n",
       "      <th>11852</th>\n",
       "      <td>233</td>\n",
       "      <td>0</td>\n",
       "      <td>1</td>\n",
       "      <td>3.15</td>\n",
       "    </tr>\n",
       "    <tr>\n",
       "      <th>7006</th>\n",
       "      <td>139</td>\n",
       "      <td>0</td>\n",
       "      <td>1</td>\n",
       "      <td>2.39</td>\n",
       "    </tr>\n",
       "    <tr>\n",
       "      <th>20146</th>\n",
       "      <td>63</td>\n",
       "      <td>0</td>\n",
       "      <td>1</td>\n",
       "      <td>21.89</td>\n",
       "    </tr>\n",
       "    <tr>\n",
       "      <th>1403</th>\n",
       "      <td>301</td>\n",
       "      <td>0</td>\n",
       "      <td>1</td>\n",
       "      <td>20.75</td>\n",
       "    </tr>\n",
       "  </tbody>\n",
       "</table>\n",
       "</div>"
      ],
      "text/plain": [
       "             Recency  Tenure  Frequency  Monetary\n",
       "Customer_ID                                      \n",
       "3101             261       0          1      1.09\n",
       "3926             340       0          1     11.25\n",
       "11852            233       0          1      3.15\n",
       "7006             139       0          1      2.39\n",
       "20146             63       0          1     21.89\n",
       "1403             301       0          1     20.75"
      ]
     },
     "execution_count": 120,
     "metadata": {},
     "output_type": "execute_result"
    }
   ],
   "source": [
    "eda_rfm_data[eda_rfm_data['Tenure'] == 0].sample(6)"
   ]
  },
  {
   "cell_type": "markdown",
   "id": "97f38c87",
   "metadata": {},
   "source": [
    "- We have customer with tenure = 0 and frequency != 1\n",
    "- It means they are not one time purchaser"
   ]
  },
  {
   "cell_type": "markdown",
   "id": "2e614ec1",
   "metadata": {},
   "source": [
    "Check for `Monetary` description"
   ]
  },
  {
   "cell_type": "code",
   "execution_count": 121,
   "id": "2e2e89b1",
   "metadata": {},
   "outputs": [
    {
     "data": {
      "text/plain": [
       "count    11535.000000\n",
       "mean        20.016824\n",
       "std         30.678324\n",
       "min          0.140000\n",
       "25%          6.350000\n",
       "50%         11.250000\n",
       "75%         21.125000\n",
       "max        544.790000\n",
       "Name: Monetary, dtype: float64"
      ]
     },
     "execution_count": 121,
     "metadata": {},
     "output_type": "execute_result"
    }
   ],
   "source": [
    "# Monetary description\n",
    "eda_rfm_data[eda_rfm_data['Frequency'] == 1]['Monetary'].describe()"
   ]
  },
  {
   "cell_type": "markdown",
   "id": "29325471",
   "metadata": {},
   "source": [
    "There are some outliers."
   ]
  },
  {
   "cell_type": "markdown",
   "id": "906e3950",
   "metadata": {},
   "source": [
    "**Summary**\n",
    "- The marketing team is keen on segmenting customers who have made multiple purchases, so we're going to filter out customers with a Frequency score of less than 2, effectively excluding those who have only made a single purchase. This allows us to focus our marketing efforts on customers who have demonstrated repeat business."
   ]
  },
  {
   "cell_type": "code",
   "execution_count": 122,
   "id": "61502e98",
   "metadata": {},
   "outputs": [
    {
     "data": {
      "text/html": [
       "<div>\n",
       "<style scoped>\n",
       "    .dataframe tbody tr th:only-of-type {\n",
       "        vertical-align: middle;\n",
       "    }\n",
       "\n",
       "    .dataframe tbody tr th {\n",
       "        vertical-align: top;\n",
       "    }\n",
       "\n",
       "    .dataframe thead th {\n",
       "        text-align: right;\n",
       "    }\n",
       "</style>\n",
       "<table border=\"1\" class=\"dataframe\">\n",
       "  <thead>\n",
       "    <tr style=\"text-align: right;\">\n",
       "      <th></th>\n",
       "      <th>Recency</th>\n",
       "      <th>Tenure</th>\n",
       "      <th>Frequency</th>\n",
       "      <th>Monetary</th>\n",
       "    </tr>\n",
       "  </thead>\n",
       "  <tbody>\n",
       "    <tr>\n",
       "      <th>count</th>\n",
       "      <td>11090.000000</td>\n",
       "      <td>11090.000000</td>\n",
       "      <td>11090.000000</td>\n",
       "      <td>11090.000000</td>\n",
       "    </tr>\n",
       "    <tr>\n",
       "      <th>mean</th>\n",
       "      <td>102.864472</td>\n",
       "      <td>163.366637</td>\n",
       "      <td>4.792335</td>\n",
       "      <td>121.473811</td>\n",
       "    </tr>\n",
       "    <tr>\n",
       "      <th>std</th>\n",
       "      <td>91.987406</td>\n",
       "      <td>103.691150</td>\n",
       "      <td>5.031211</td>\n",
       "      <td>202.733651</td>\n",
       "    </tr>\n",
       "    <tr>\n",
       "      <th>min</th>\n",
       "      <td>2.000000</td>\n",
       "      <td>0.000000</td>\n",
       "      <td>2.000000</td>\n",
       "      <td>2.240000</td>\n",
       "    </tr>\n",
       "    <tr>\n",
       "      <th>25%</th>\n",
       "      <td>28.000000</td>\n",
       "      <td>70.000000</td>\n",
       "      <td>2.000000</td>\n",
       "      <td>27.462500</td>\n",
       "    </tr>\n",
       "    <tr>\n",
       "      <th>50%</th>\n",
       "      <td>70.000000</td>\n",
       "      <td>164.000000</td>\n",
       "      <td>3.000000</td>\n",
       "      <td>55.635000</td>\n",
       "    </tr>\n",
       "    <tr>\n",
       "      <th>75%</th>\n",
       "      <td>158.000000</td>\n",
       "      <td>251.000000</td>\n",
       "      <td>5.000000</td>\n",
       "      <td>126.507500</td>\n",
       "    </tr>\n",
       "    <tr>\n",
       "      <th>max</th>\n",
       "      <td>366.000000</td>\n",
       "      <td>363.000000</td>\n",
       "      <td>99.000000</td>\n",
       "      <td>3985.940000</td>\n",
       "    </tr>\n",
       "  </tbody>\n",
       "</table>\n",
       "</div>"
      ],
      "text/plain": [
       "            Recency        Tenure     Frequency      Monetary\n",
       "count  11090.000000  11090.000000  11090.000000  11090.000000\n",
       "mean     102.864472    163.366637      4.792335    121.473811\n",
       "std       91.987406    103.691150      5.031211    202.733651\n",
       "min        2.000000      0.000000      2.000000      2.240000\n",
       "25%       28.000000     70.000000      2.000000     27.462500\n",
       "50%       70.000000    164.000000      3.000000     55.635000\n",
       "75%      158.000000    251.000000      5.000000    126.507500\n",
       "max      366.000000    363.000000     99.000000   3985.940000"
      ]
     },
     "execution_count": 122,
     "metadata": {},
     "output_type": "execute_result"
    }
   ],
   "source": [
    "# Filter data\n",
    "eda_rfm_data = eda_rfm_data[eda_rfm_data['Frequency'] >= 2]\n",
    "\n",
    "# validate\n",
    "eda_rfm_data.describe()"
   ]
  },
  {
   "cell_type": "markdown",
   "id": "e3ed3740",
   "metadata": {},
   "source": [
    "- Certainly, we're specifically categorizing customers who have made only a single purchase, which is indicated by a Frequency score of 1. This approach ensures that we treat one-time purchasers as a distinct customer segment."
   ]
  },
  {
   "cell_type": "markdown",
   "id": "738a9d8b",
   "metadata": {},
   "source": [
    "### **4.9. Data Distribution**\n",
    "---"
   ]
  },
  {
   "cell_type": "markdown",
   "id": "ae438f59",
   "metadata": {},
   "source": [
    "Let's plot the data distribution"
   ]
  },
  {
   "cell_type": "code",
   "execution_count": 123,
   "id": "ca8997af",
   "metadata": {},
   "outputs": [
    {
     "data": {
      "image/png": "[encoded data removed]",
      "text/plain": [
       "<Figure size 640x480 with 1 Axes>"
      ]
     },
     "metadata": {},
     "output_type": "display_data"
    },
    {
     "data": {
      "image/png": "[encoded data removed]",
      "text/plain": [
       "<Figure size 640x480 with 1 Axes>"
      ]
     },
     "metadata": {},
     "output_type": "display_data"
    },
    {
     "data": {
      "image/png": "[encoded data removed]",
      "text/plain": [
       "<Figure size 640x480 with 1 Axes>"
      ]
     },
     "metadata": {},
     "output_type": "display_data"
    },
    {
     "data": {
      "image/png": "[encoded data removed]",
      "text/plain": [
       "<Figure size 640x480 with 1 Axes>"
      ]
     },
     "metadata": {},
     "output_type": "display_data"
    }
   ],
   "source": [
    "for col in eda_rfm_data.columns:\n",
    "    x = eda_rfm_data[col]\n",
    "    sns.histplot(x)\n",
    "    plt.title(col)\n",
    "    plt.show();"
   ]
  },
  {
   "cell_type": "markdown",
   "id": "99ca6864",
   "metadata": {},
   "source": [
    "**Summary**\n",
    "- The data for both `Monetary` and `Frequency` is heavily skewed,\n",
    "- Handle outliers using IQR both `Monetary` & `Frequency`"
   ]
  },
  {
   "cell_type": "code",
   "execution_count": 124,
   "id": "32a7475c",
   "metadata": {},
   "outputs": [],
   "source": [
    "# Drop the outlier\n",
    "def drop_outlier(data, cols):\n",
    "    \"\"\"\n",
    "    Function to drop outliers by IQR\n",
    "\n",
    "    Parameters\n",
    "    ----------\n",
    "    data : pandas Dataframe\n",
    "        The sample data\n",
    "\n",
    "    cols : list\n",
    "        Cols to clean\n",
    "\n",
    "    Return\n",
    "    ------\n",
    "    data_clean : pandas Dataframe\n",
    "        The clean sample data\n",
    "    \"\"\"\n",
    "    # Copy data\n",
    "    data_clean = data.copy()\n",
    "\n",
    "    # Iterate\n",
    "    for col in cols:\n",
    "        # Find IQR\n",
    "        q1, q3 = np.quantile(data_clean[col], q=[0.25, 0.75])\n",
    "        iqr = q3 - q1\n",
    "        ub = q3 + 1.5*iqr # upper bound\n",
    "        lb = q1 - 1.5*iqr # lower bound\n",
    "\n",
    "        # Filter data\n",
    "        cond_data_1 = data_clean[col] <= ub\n",
    "        cond_data_2 = data_clean[col] >= lb\n",
    "        data_clean = data_clean[cond_data_1 & cond_data_2]\n",
    "\n",
    "    return data_clean\n"
   ]
  },
  {
   "cell_type": "code",
   "execution_count": 125,
   "id": "147e423a",
   "metadata": {},
   "outputs": [
    {
     "name": "stdout",
     "output_type": "stream",
     "text": [
      "EDA data shape : (9473, 4)\n"
     ]
    },
    {
     "data": {
      "text/html": [
       "<div>\n",
       "<style scoped>\n",
       "    .dataframe tbody tr th:only-of-type {\n",
       "        vertical-align: middle;\n",
       "    }\n",
       "\n",
       "    .dataframe tbody tr th {\n",
       "        vertical-align: top;\n",
       "    }\n",
       "\n",
       "    .dataframe thead th {\n",
       "        text-align: right;\n",
       "    }\n",
       "</style>\n",
       "<table border=\"1\" class=\"dataframe\">\n",
       "  <thead>\n",
       "    <tr style=\"text-align: right;\">\n",
       "      <th></th>\n",
       "      <th>Recency</th>\n",
       "      <th>Tenure</th>\n",
       "      <th>Frequency</th>\n",
       "      <th>Monetary</th>\n",
       "    </tr>\n",
       "  </thead>\n",
       "  <tbody>\n",
       "    <tr>\n",
       "      <th>count</th>\n",
       "      <td>9473.000000</td>\n",
       "      <td>9473.000000</td>\n",
       "      <td>9473.000000</td>\n",
       "      <td>9473.000000</td>\n",
       "    </tr>\n",
       "    <tr>\n",
       "      <th>mean</th>\n",
       "      <td>112.308244</td>\n",
       "      <td>146.328724</td>\n",
       "      <td>3.413069</td>\n",
       "      <td>64.378192</td>\n",
       "    </tr>\n",
       "    <tr>\n",
       "      <th>std</th>\n",
       "      <td>92.831597</td>\n",
       "      <td>97.566257</td>\n",
       "      <td>1.773689</td>\n",
       "      <td>55.679319</td>\n",
       "    </tr>\n",
       "    <tr>\n",
       "      <th>min</th>\n",
       "      <td>2.000000</td>\n",
       "      <td>0.000000</td>\n",
       "      <td>2.000000</td>\n",
       "      <td>2.240000</td>\n",
       "    </tr>\n",
       "    <tr>\n",
       "      <th>25%</th>\n",
       "      <td>33.000000</td>\n",
       "      <td>61.000000</td>\n",
       "      <td>2.000000</td>\n",
       "      <td>24.440000</td>\n",
       "    </tr>\n",
       "    <tr>\n",
       "      <th>50%</th>\n",
       "      <td>86.000000</td>\n",
       "      <td>142.000000</td>\n",
       "      <td>3.000000</td>\n",
       "      <td>45.120000</td>\n",
       "    </tr>\n",
       "    <tr>\n",
       "      <th>75%</th>\n",
       "      <td>178.000000</td>\n",
       "      <td>224.000000</td>\n",
       "      <td>4.000000</td>\n",
       "      <td>85.170000</td>\n",
       "    </tr>\n",
       "    <tr>\n",
       "      <th>max</th>\n",
       "      <td>366.000000</td>\n",
       "      <td>360.000000</td>\n",
       "      <td>9.000000</td>\n",
       "      <td>274.820000</td>\n",
       "    </tr>\n",
       "  </tbody>\n",
       "</table>\n",
       "</div>"
      ],
      "text/plain": [
       "           Recency       Tenure    Frequency     Monetary\n",
       "count  9473.000000  9473.000000  9473.000000  9473.000000\n",
       "mean    112.308244   146.328724     3.413069    64.378192\n",
       "std      92.831597    97.566257     1.773689    55.679319\n",
       "min       2.000000     0.000000     2.000000     2.240000\n",
       "25%      33.000000    61.000000     2.000000    24.440000\n",
       "50%      86.000000   142.000000     3.000000    45.120000\n",
       "75%     178.000000   224.000000     4.000000    85.170000\n",
       "max     366.000000   360.000000     9.000000   274.820000"
      ]
     },
     "execution_count": 125,
     "metadata": {},
     "output_type": "execute_result"
    }
   ],
   "source": [
    "# Remove outlier\n",
    "eda_rfm_data = drop_outlier(data = eda_rfm_data,\n",
    "                            cols = ['Monetary', 'Frequency'])\n",
    "\n",
    "# Validate\n",
    "print('EDA data shape :', eda_rfm_data.shape)\n",
    "eda_rfm_data.describe()"
   ]
  },
  {
   "cell_type": "code",
   "execution_count": 126,
   "id": "caed8cb5",
   "metadata": {},
   "outputs": [
    {
     "data": {
      "image/png": "[encoded data removed]",
      "text/plain": [
       "<Figure size 640x480 with 1 Axes>"
      ]
     },
     "metadata": {},
     "output_type": "display_data"
    },
    {
     "data": {
      "image/png": "[encoded data removed]",
      "text/plain": [
       "<Figure size 640x480 with 1 Axes>"
      ]
     },
     "metadata": {},
     "output_type": "display_data"
    },
    {
     "data": {
      "image/png": "[encoded data removed]",
      "text/plain": [
       "<Figure size 640x480 with 1 Axes>"
      ]
     },
     "metadata": {},
     "output_type": "display_data"
    },
    {
     "data": {
      "image/png": "[encoded data removed]",
      "text/plain": [
       "<Figure size 640x480 with 1 Axes>"
      ]
     },
     "metadata": {},
     "output_type": "display_data"
    }
   ],
   "source": [
    "for col in eda_rfm_data.columns:\n",
    "    x = eda_rfm_data[col]\n",
    "    sns.histplot(x)\n",
    "    plt.title(col)\n",
    "    plt.show();"
   ]
  },
  {
   "cell_type": "markdown",
   "id": "8278bb48",
   "metadata": {},
   "source": [
    "# <font color ='Blue'> **5. Data Preprocessing** </font>\n",
    "---"
   ]
  },
  {
   "cell_type": "markdown",
   "id": "2fb8b5d6",
   "metadata": {},
   "source": [
    "The preprocess data is following the plan from previous EDA\n",
    "\n",
    "1. Remove missing value from `Customer_ID`\n",
    "2. Convert data to RFM + TS data\n",
    "3. Remove `Frequency < 2`\n",
    "4. Remove `Monetary` and `Frequency` outlier\n",
    "5. Normalize the data (using Min-Max)"
   ]
  },
  {
   "cell_type": "markdown",
   "id": "2be56348",
   "metadata": {},
   "source": [
    "To do that, we create several functions"
   ]
  },
  {
   "cell_type": "markdown",
   "id": "9f953987",
   "metadata": {},
   "source": [
    "### **5.1. Preprocess raw data**\n",
    "---"
   ]
  },
  {
   "cell_type": "code",
   "execution_count": 127,
   "id": "bba90038",
   "metadata": {},
   "outputs": [],
   "source": [
    "# Create some functions\n",
    "def preprocess_raw(data):\n",
    "    \"\"\"\n",
    "    Function to preprocess the raw data to RFM data\n",
    "\n",
    "    Parameters\n",
    "    ----------\n",
    "    data : pandas DataFrame\n",
    "        The sample raw data\n",
    "\n",
    "    Returns\n",
    "    -------\n",
    "    data_rfm : pandas DataFrame\n",
    "        The RFM data\n",
    "    \"\"\"\n",
    "    # 1. Remove missing Customer ID\n",
    "    data_raw = data[~data['Customer_ID'].isna()]\n",
    "\n",
    "    # 2. Create RFM ddata\n",
    "    data_rfm = generate_rfmts(data = data_raw)\n",
    "\n",
    "    # Validate RFM data\n",
    "    print('RFM data shape :', data_rfm.shape)\n",
    "    assert data_rfm.shape[0] == len(set(data_raw['Customer_ID']))\n",
    "\n",
    "    return data_rfm\n"
   ]
  },
  {
   "cell_type": "code",
   "execution_count": 128,
   "id": "d4a3cc2f",
   "metadata": {},
   "outputs": [
    {
     "name": "stdout",
     "output_type": "stream",
     "text": [
      "RFM data shape : (22625, 4)\n"
     ]
    },
    {
     "data": {
      "text/html": [
       "<div>\n",
       "<style scoped>\n",
       "    .dataframe tbody tr th:only-of-type {\n",
       "        vertical-align: middle;\n",
       "    }\n",
       "\n",
       "    .dataframe tbody tr th {\n",
       "        vertical-align: top;\n",
       "    }\n",
       "\n",
       "    .dataframe thead th {\n",
       "        text-align: right;\n",
       "    }\n",
       "</style>\n",
       "<table border=\"1\" class=\"dataframe\">\n",
       "  <thead>\n",
       "    <tr style=\"text-align: right;\">\n",
       "      <th></th>\n",
       "      <th>Recency</th>\n",
       "      <th>Tenure</th>\n",
       "      <th>Frequency</th>\n",
       "      <th>Monetary</th>\n",
       "    </tr>\n",
       "    <tr>\n",
       "      <th>Customer_ID</th>\n",
       "      <th></th>\n",
       "      <th></th>\n",
       "      <th></th>\n",
       "      <th></th>\n",
       "    </tr>\n",
       "  </thead>\n",
       "  <tbody>\n",
       "    <tr>\n",
       "      <th>1</th>\n",
       "      <td>346</td>\n",
       "      <td>0</td>\n",
       "      <td>1</td>\n",
       "      <td>16.29</td>\n",
       "    </tr>\n",
       "    <tr>\n",
       "      <th>2</th>\n",
       "      <td>197</td>\n",
       "      <td>87</td>\n",
       "      <td>2</td>\n",
       "      <td>22.77</td>\n",
       "    </tr>\n",
       "    <tr>\n",
       "      <th>3</th>\n",
       "      <td>336</td>\n",
       "      <td>0</td>\n",
       "      <td>1</td>\n",
       "      <td>10.92</td>\n",
       "    </tr>\n",
       "    <tr>\n",
       "      <th>4</th>\n",
       "      <td>56</td>\n",
       "      <td>57</td>\n",
       "      <td>2</td>\n",
       "      <td>33.29</td>\n",
       "    </tr>\n",
       "    <tr>\n",
       "      <th>5</th>\n",
       "      <td>122</td>\n",
       "      <td>193</td>\n",
       "      <td>5</td>\n",
       "      <td>78.82</td>\n",
       "    </tr>\n",
       "  </tbody>\n",
       "</table>\n",
       "</div>"
      ],
      "text/plain": [
       "             Recency  Tenure  Frequency  Monetary\n",
       "Customer_ID                                      \n",
       "1                346       0          1     16.29\n",
       "2                197      87          2     22.77\n",
       "3                336       0          1     10.92\n",
       "4                 56      57          2     33.29\n",
       "5                122     193          5     78.82"
      ]
     },
     "execution_count": 128,
     "metadata": {},
     "output_type": "execute_result"
    }
   ],
   "source": [
    "# Get the RFM data\n",
    "data_rfm = preprocess_raw(data = eda_data)\n",
    "\n",
    "data_rfm.head()"
   ]
  },
  {
   "cell_type": "markdown",
   "id": "0e968fcb",
   "metadata": {},
   "source": [
    "### **5.2. Preprocess RFM data**\n",
    "---"
   ]
  },
  {
   "cell_type": "code",
   "execution_count": 129,
   "id": "8693aab8",
   "metadata": {},
   "outputs": [],
   "source": [
    "def preprocess_rfm(data_rfm):\n",
    "    \"\"\"\n",
    "    Function to clean the RFM data\n",
    "\n",
    "    Parameters\n",
    "    ----------\n",
    "    data_rfm : pandas DataFrame\n",
    "        The sample rfm data\n",
    "\n",
    "    Returns\n",
    "    -------\n",
    "    data_clean : pandas DataFrame\n",
    "        The RFM data\n",
    "    \"\"\"\n",
    "    # 1. filter Frequency\n",
    "    data_freq = data_rfm[data_rfm['Frequency'] >= 2]\n",
    "\n",
    "    # 2. Remove outlier\n",
    "    data_clean = drop_outlier(data = data_freq,\n",
    "                              cols = ['Monetary', 'Frequency'])\n",
    "\n",
    "    # 3. Filter data\n",
    "    data_clean = data_clean[['Recency', 'Frequency', 'Monetary']]\n",
    "\n",
    "    # Validate\n",
    "    print('Data shape :', data_clean.shape)\n",
    "\n",
    "    return data_clean\n"
   ]
  },
  {
   "cell_type": "code",
   "execution_count": 130,
   "id": "8ed2a5e2",
   "metadata": {},
   "outputs": [
    {
     "name": "stdout",
     "output_type": "stream",
     "text": [
      "Data shape : (9473, 3)\n"
     ]
    },
    {
     "data": {
      "text/html": [
       "<div>\n",
       "<style scoped>\n",
       "    .dataframe tbody tr th:only-of-type {\n",
       "        vertical-align: middle;\n",
       "    }\n",
       "\n",
       "    .dataframe tbody tr th {\n",
       "        vertical-align: top;\n",
       "    }\n",
       "\n",
       "    .dataframe thead th {\n",
       "        text-align: right;\n",
       "    }\n",
       "</style>\n",
       "<table border=\"1\" class=\"dataframe\">\n",
       "  <thead>\n",
       "    <tr style=\"text-align: right;\">\n",
       "      <th></th>\n",
       "      <th>Recency</th>\n",
       "      <th>Frequency</th>\n",
       "      <th>Monetary</th>\n",
       "    </tr>\n",
       "  </thead>\n",
       "  <tbody>\n",
       "    <tr>\n",
       "      <th>count</th>\n",
       "      <td>9473.000000</td>\n",
       "      <td>9473.000000</td>\n",
       "      <td>9473.000000</td>\n",
       "    </tr>\n",
       "    <tr>\n",
       "      <th>mean</th>\n",
       "      <td>112.308244</td>\n",
       "      <td>3.413069</td>\n",
       "      <td>64.378192</td>\n",
       "    </tr>\n",
       "    <tr>\n",
       "      <th>std</th>\n",
       "      <td>92.831597</td>\n",
       "      <td>1.773689</td>\n",
       "      <td>55.679319</td>\n",
       "    </tr>\n",
       "    <tr>\n",
       "      <th>min</th>\n",
       "      <td>2.000000</td>\n",
       "      <td>2.000000</td>\n",
       "      <td>2.240000</td>\n",
       "    </tr>\n",
       "    <tr>\n",
       "      <th>25%</th>\n",
       "      <td>33.000000</td>\n",
       "      <td>2.000000</td>\n",
       "      <td>24.440000</td>\n",
       "    </tr>\n",
       "    <tr>\n",
       "      <th>50%</th>\n",
       "      <td>86.000000</td>\n",
       "      <td>3.000000</td>\n",
       "      <td>45.120000</td>\n",
       "    </tr>\n",
       "    <tr>\n",
       "      <th>75%</th>\n",
       "      <td>178.000000</td>\n",
       "      <td>4.000000</td>\n",
       "      <td>85.170000</td>\n",
       "    </tr>\n",
       "    <tr>\n",
       "      <th>max</th>\n",
       "      <td>366.000000</td>\n",
       "      <td>9.000000</td>\n",
       "      <td>274.820000</td>\n",
       "    </tr>\n",
       "  </tbody>\n",
       "</table>\n",
       "</div>"
      ],
      "text/plain": [
       "           Recency    Frequency     Monetary\n",
       "count  9473.000000  9473.000000  9473.000000\n",
       "mean    112.308244     3.413069    64.378192\n",
       "std      92.831597     1.773689    55.679319\n",
       "min       2.000000     2.000000     2.240000\n",
       "25%      33.000000     2.000000    24.440000\n",
       "50%      86.000000     3.000000    45.120000\n",
       "75%     178.000000     4.000000    85.170000\n",
       "max     366.000000     9.000000   274.820000"
      ]
     },
     "execution_count": 130,
     "metadata": {},
     "output_type": "execute_result"
    }
   ],
   "source": [
    "# Get the clean RFM data\n",
    "data_rfm_clean = preprocess_rfm(data_rfm = data_rfm)\n",
    "\n",
    "data_rfm_clean.describe()"
   ]
  },
  {
   "cell_type": "markdown",
   "id": "8b879f14",
   "metadata": {},
   "source": [
    "- We only have repeat order customer in this data.\n",
    "- Outliers have been removed"
   ]
  },
  {
   "cell_type": "markdown",
   "id": "aaf2543f",
   "metadata": {},
   "source": [
    "### **5.3. Normalize Data**\n",
    "---"
   ]
  },
  {
   "cell_type": "markdown",
   "id": "414f38d7",
   "metadata": {},
   "source": [
    "Why we need to normalize data in clustering K-Means?\n",
    "- K-Means algorithm uses Euclidean distance that is highly prone to irregularities in the size of various features\n",
    "- Normalize data before K-Means to handle feature size differences and improve clustering accuracy.\n",
    "<br><br>\n",
    "\n",
    "Ref: Virmani, D. (2015, March 3). Normalization based K means Clustering Algorithm. arXiv.org. https://arxiv.org/abs/1503.00900\n",
    "\n",
    "<br>\n",
    "\n",
    "Why MinMaxScaler instead standardization? <br>\n",
    "we can use this simple questions to determine which of the scaling method we'll use.\n",
    "\n",
    "1. What is your data distribution?\n",
    "2. Is your data free from outliers?\n",
    "3. Does your data have to be transformed within a certain range?\n",
    "\n",
    "Ans\n",
    "\n",
    "1. If the answer is normal, use standardization, otherwise use min-max. Our data isn't normal --> minmaxscaler\n",
    "2. if the answer has no outliers (we have removed them), use the min-max scaler (because standardization transform the outliers)\n",
    "3. If the answer is no, we can use standardization or minmax, because min-max is transformed in the range [0, 1], for standardization the range can be different.\n",
    "\n",
    "\n"
   ]
  },
  {
   "cell_type": "code",
   "execution_count": 131,
   "id": "5beb5bd4",
   "metadata": {},
   "outputs": [],
   "source": [
    "# Fit & transform scaler\n",
    "from sklearn.preprocessing import MinMaxScaler\n",
    "\n",
    "def fit_scaler(data):\n",
    "    \"\"\"\n",
    "    Function to fit a min-max scaler\n",
    "\n",
    "    Parameters\n",
    "    ----------\n",
    "    data : pandas DataFrame\n",
    "        The sample RFM data\n",
    "\n",
    "    Returns\n",
    "    -------\n",
    "    scaler : object\n",
    "        The Min-Max scaler\n",
    "    \"\"\"\n",
    "    # Create & fit scaler\n",
    "    scaler = MinMaxScaler()\n",
    "    scaler.fit(data)\n",
    "\n",
    "    return scaler\n",
    "\n",
    "def transform_scaler(data, scaler):\n",
    "    \"\"\"\n",
    "    Function to fit a min-max scaler\n",
    "\n",
    "    Parameters\n",
    "    ----------\n",
    "    data : pandas DataFrame\n",
    "        The sample RFM data\n",
    "\n",
    "    scaler : object\n",
    "        The Min-Max scaler\n",
    "\n",
    "    Returns\n",
    "    -------\n",
    "    data_clean : object\n",
    "        The clean data\n",
    "    \"\"\"\n",
    "    # Transform scaler\n",
    "    data_clean = pd.DataFrame(scaler.transform(data))\n",
    "    data_clean.index = data.index\n",
    "    data_clean.columns = data.columns\n",
    "\n",
    "    # Validate\n",
    "    print(\"Data shape :\", data.shape)\n",
    "\n",
    "    return data_clean\n"
   ]
  },
  {
   "cell_type": "code",
   "execution_count": 132,
   "id": "3abefc7c",
   "metadata": {},
   "outputs": [
    {
     "name": "stdout",
     "output_type": "stream",
     "text": [
      "Data shape : (9473, 3)\n"
     ]
    },
    {
     "data": {
      "text/html": [
       "<div>\n",
       "<style scoped>\n",
       "    .dataframe tbody tr th:only-of-type {\n",
       "        vertical-align: middle;\n",
       "    }\n",
       "\n",
       "    .dataframe tbody tr th {\n",
       "        vertical-align: top;\n",
       "    }\n",
       "\n",
       "    .dataframe thead th {\n",
       "        text-align: right;\n",
       "    }\n",
       "</style>\n",
       "<table border=\"1\" class=\"dataframe\">\n",
       "  <thead>\n",
       "    <tr style=\"text-align: right;\">\n",
       "      <th></th>\n",
       "      <th>Recency</th>\n",
       "      <th>Frequency</th>\n",
       "      <th>Monetary</th>\n",
       "    </tr>\n",
       "    <tr>\n",
       "      <th>Customer_ID</th>\n",
       "      <th></th>\n",
       "      <th></th>\n",
       "      <th></th>\n",
       "    </tr>\n",
       "  </thead>\n",
       "  <tbody>\n",
       "    <tr>\n",
       "      <th>2</th>\n",
       "      <td>0.535714</td>\n",
       "      <td>0.000000</td>\n",
       "      <td>0.075317</td>\n",
       "    </tr>\n",
       "    <tr>\n",
       "      <th>4</th>\n",
       "      <td>0.148352</td>\n",
       "      <td>0.000000</td>\n",
       "      <td>0.113912</td>\n",
       "    </tr>\n",
       "    <tr>\n",
       "      <th>5</th>\n",
       "      <td>0.329670</td>\n",
       "      <td>0.428571</td>\n",
       "      <td>0.280945</td>\n",
       "    </tr>\n",
       "    <tr>\n",
       "      <th>13</th>\n",
       "      <td>0.162088</td>\n",
       "      <td>0.000000</td>\n",
       "      <td>0.187101</td>\n",
       "    </tr>\n",
       "    <tr>\n",
       "      <th>16</th>\n",
       "      <td>0.706044</td>\n",
       "      <td>0.000000</td>\n",
       "      <td>0.219825</td>\n",
       "    </tr>\n",
       "  </tbody>\n",
       "</table>\n",
       "</div>"
      ],
      "text/plain": [
       "              Recency  Frequency  Monetary\n",
       "Customer_ID                               \n",
       "2            0.535714   0.000000  0.075317\n",
       "4            0.148352   0.000000  0.113912\n",
       "5            0.329670   0.428571  0.280945\n",
       "13           0.162088   0.000000  0.187101\n",
       "16           0.706044   0.000000  0.219825"
      ]
     },
     "execution_count": 132,
     "metadata": {},
     "output_type": "execute_result"
    }
   ],
   "source": [
    "# Fit a scaler\n",
    "scaler = fit_scaler(data = data_rfm_clean)\n",
    "\n",
    "# Transform data\n",
    "data_rfm_scaled = transform_scaler(data = data_rfm_clean,\n",
    "                                   scaler = scaler)\n",
    "\n",
    "data_rfm_scaled.head()"
   ]
  },
  {
   "cell_type": "code",
   "execution_count": 133,
   "id": "2573812e",
   "metadata": {},
   "outputs": [
    {
     "data": {
      "text/plain": [
       "9465"
      ]
     },
     "execution_count": 133,
     "metadata": {},
     "output_type": "execute_result"
    }
   ],
   "source": [
    "data_rfm_scaled['Frequency'].duplicated().sum()"
   ]
  },
  {
   "cell_type": "code",
   "execution_count": 134,
   "id": "34b9e4ae",
   "metadata": {},
   "outputs": [
    {
     "data": {
      "text/html": [
       "<div>\n",
       "<style scoped>\n",
       "    .dataframe tbody tr th:only-of-type {\n",
       "        vertical-align: middle;\n",
       "    }\n",
       "\n",
       "    .dataframe tbody tr th {\n",
       "        vertical-align: top;\n",
       "    }\n",
       "\n",
       "    .dataframe thead th {\n",
       "        text-align: right;\n",
       "    }\n",
       "</style>\n",
       "<table border=\"1\" class=\"dataframe\">\n",
       "  <thead>\n",
       "    <tr style=\"text-align: right;\">\n",
       "      <th></th>\n",
       "      <th>Recency</th>\n",
       "      <th>Frequency</th>\n",
       "      <th>Monetary</th>\n",
       "    </tr>\n",
       "  </thead>\n",
       "  <tbody>\n",
       "    <tr>\n",
       "      <th>count</th>\n",
       "      <td>9473.000000</td>\n",
       "      <td>9473.000000</td>\n",
       "      <td>9473.000000</td>\n",
       "    </tr>\n",
       "    <tr>\n",
       "      <th>mean</th>\n",
       "      <td>0.303045</td>\n",
       "      <td>0.201867</td>\n",
       "      <td>0.227963</td>\n",
       "    </tr>\n",
       "    <tr>\n",
       "      <th>std</th>\n",
       "      <td>0.255032</td>\n",
       "      <td>0.253384</td>\n",
       "      <td>0.204268</td>\n",
       "    </tr>\n",
       "    <tr>\n",
       "      <th>min</th>\n",
       "      <td>0.000000</td>\n",
       "      <td>0.000000</td>\n",
       "      <td>0.000000</td>\n",
       "    </tr>\n",
       "    <tr>\n",
       "      <th>25%</th>\n",
       "      <td>0.085165</td>\n",
       "      <td>0.000000</td>\n",
       "      <td>0.081444</td>\n",
       "    </tr>\n",
       "    <tr>\n",
       "      <th>50%</th>\n",
       "      <td>0.230769</td>\n",
       "      <td>0.142857</td>\n",
       "      <td>0.157312</td>\n",
       "    </tr>\n",
       "    <tr>\n",
       "      <th>75%</th>\n",
       "      <td>0.483516</td>\n",
       "      <td>0.285714</td>\n",
       "      <td>0.304241</td>\n",
       "    </tr>\n",
       "    <tr>\n",
       "      <th>max</th>\n",
       "      <td>1.000000</td>\n",
       "      <td>1.000000</td>\n",
       "      <td>1.000000</td>\n",
       "    </tr>\n",
       "  </tbody>\n",
       "</table>\n",
       "</div>"
      ],
      "text/plain": [
       "           Recency    Frequency     Monetary\n",
       "count  9473.000000  9473.000000  9473.000000\n",
       "mean      0.303045     0.201867     0.227963\n",
       "std       0.255032     0.253384     0.204268\n",
       "min       0.000000     0.000000     0.000000\n",
       "25%       0.085165     0.000000     0.081444\n",
       "50%       0.230769     0.142857     0.157312\n",
       "75%       0.483516     0.285714     0.304241\n",
       "max       1.000000     1.000000     1.000000"
      ]
     },
     "execution_count": 134,
     "metadata": {},
     "output_type": "execute_result"
    }
   ],
   "source": [
    "data_rfm_scaled.describe()"
   ]
  },
  {
   "cell_type": "markdown",
   "id": "183e91dd",
   "metadata": {},
   "source": [
    "It's evident that using min-max scaling has constrained the values of the data within the range of 0 to 1."
   ]
  },
  {
   "cell_type": "markdown",
   "id": "7fca9cdb",
   "metadata": {},
   "source": [
    "### **5.4. Create preprocessing pipeline**\n",
    "---"
   ]
  },
  {
   "cell_type": "code",
   "execution_count": 135,
   "id": "fa6a7c0a",
   "metadata": {},
   "outputs": [],
   "source": [
    "def preprocess_data(data, scaler=None):\n",
    "    \"\"\"\n",
    "    Function to preprocess the whole data\n",
    "\n",
    "    Parameters\n",
    "    ----------\n",
    "    data : pandas DataFrame\n",
    "        The raw sample data\n",
    "\n",
    "    scaler : object, defatult=None\n",
    "        The min-max scaler\n",
    "\n",
    "    Returns\n",
    "    -------\n",
    "    data_clean : pandas DataFrame\n",
    "        The clean data\n",
    "    \"\"\"\n",
    "    # 1. Get the RFM data\n",
    "    data_rfm = preprocess_raw(data = data)\n",
    "\n",
    "    # 2. Get the clean RFM data\n",
    "    data_rfm_clean = preprocess_rfm(data_rfm = data_rfm)\n",
    "\n",
    "    # 3. Normalize data\n",
    "    if scaler is None:\n",
    "        # Create a scaler\n",
    "        scaler = fit_scaler(data = data_rfm_clean)\n",
    "\n",
    "    data_clean = transform_scaler(data = data_rfm_clean,\n",
    "                                  scaler = scaler)\n",
    "\n",
    "    # 4. Validate\n",
    "    print('Data shape clean :', data_clean.shape)\n",
    "\n",
    "    return data_clean, scaler\n"
   ]
  },
  {
   "cell_type": "code",
   "execution_count": 136,
   "id": "ba48d253",
   "metadata": {},
   "outputs": [
    {
     "name": "stdout",
     "output_type": "stream",
     "text": [
      "RFM data shape : (22625, 4)\n",
      "Data shape : (9473, 3)\n",
      "Data shape : (9473, 3)\n",
      "Data shape clean : (9473, 3)\n"
     ]
    }
   ],
   "source": [
    "data_clean, scaler = preprocess_data(data = data)"
   ]
  },
  {
   "cell_type": "code",
   "execution_count": 137,
   "id": "adbf0b7a",
   "metadata": {},
   "outputs": [
    {
     "data": {
      "text/html": [
       "<div>\n",
       "<style scoped>\n",
       "    .dataframe tbody tr th:only-of-type {\n",
       "        vertical-align: middle;\n",
       "    }\n",
       "\n",
       "    .dataframe tbody tr th {\n",
       "        vertical-align: top;\n",
       "    }\n",
       "\n",
       "    .dataframe thead th {\n",
       "        text-align: right;\n",
       "    }\n",
       "</style>\n",
       "<table border=\"1\" class=\"dataframe\">\n",
       "  <thead>\n",
       "    <tr style=\"text-align: right;\">\n",
       "      <th></th>\n",
       "      <th>Recency</th>\n",
       "      <th>Frequency</th>\n",
       "      <th>Monetary</th>\n",
       "    </tr>\n",
       "    <tr>\n",
       "      <th>Customer_ID</th>\n",
       "      <th></th>\n",
       "      <th></th>\n",
       "      <th></th>\n",
       "    </tr>\n",
       "  </thead>\n",
       "  <tbody>\n",
       "    <tr>\n",
       "      <th>2</th>\n",
       "      <td>0.535714</td>\n",
       "      <td>0.000000</td>\n",
       "      <td>0.075317</td>\n",
       "    </tr>\n",
       "    <tr>\n",
       "      <th>4</th>\n",
       "      <td>0.148352</td>\n",
       "      <td>0.000000</td>\n",
       "      <td>0.113912</td>\n",
       "    </tr>\n",
       "    <tr>\n",
       "      <th>5</th>\n",
       "      <td>0.329670</td>\n",
       "      <td>0.428571</td>\n",
       "      <td>0.280945</td>\n",
       "    </tr>\n",
       "    <tr>\n",
       "      <th>13</th>\n",
       "      <td>0.162088</td>\n",
       "      <td>0.000000</td>\n",
       "      <td>0.187101</td>\n",
       "    </tr>\n",
       "    <tr>\n",
       "      <th>16</th>\n",
       "      <td>0.706044</td>\n",
       "      <td>0.000000</td>\n",
       "      <td>0.219825</td>\n",
       "    </tr>\n",
       "  </tbody>\n",
       "</table>\n",
       "</div>"
      ],
      "text/plain": [
       "              Recency  Frequency  Monetary\n",
       "Customer_ID                               \n",
       "2            0.535714   0.000000  0.075317\n",
       "4            0.148352   0.000000  0.113912\n",
       "5            0.329670   0.428571  0.280945\n",
       "13           0.162088   0.000000  0.187101\n",
       "16           0.706044   0.000000  0.219825"
      ]
     },
     "execution_count": 137,
     "metadata": {},
     "output_type": "execute_result"
    }
   ],
   "source": [
    "data_clean.head()"
   ]
  },
  {
   "cell_type": "code",
   "execution_count": 138,
   "id": "b51e5fdb",
   "metadata": {},
   "outputs": [
    {
     "data": {
      "text/html": [
       "<div>\n",
       "<style scoped>\n",
       "    .dataframe tbody tr th:only-of-type {\n",
       "        vertical-align: middle;\n",
       "    }\n",
       "\n",
       "    .dataframe tbody tr th {\n",
       "        vertical-align: top;\n",
       "    }\n",
       "\n",
       "    .dataframe thead th {\n",
       "        text-align: right;\n",
       "    }\n",
       "</style>\n",
       "<table border=\"1\" class=\"dataframe\">\n",
       "  <thead>\n",
       "    <tr style=\"text-align: right;\">\n",
       "      <th></th>\n",
       "      <th>Recency</th>\n",
       "      <th>Frequency</th>\n",
       "      <th>Monetary</th>\n",
       "    </tr>\n",
       "  </thead>\n",
       "  <tbody>\n",
       "    <tr>\n",
       "      <th>count</th>\n",
       "      <td>9473.000000</td>\n",
       "      <td>9473.000000</td>\n",
       "      <td>9473.000000</td>\n",
       "    </tr>\n",
       "    <tr>\n",
       "      <th>mean</th>\n",
       "      <td>0.303045</td>\n",
       "      <td>0.201867</td>\n",
       "      <td>0.227963</td>\n",
       "    </tr>\n",
       "    <tr>\n",
       "      <th>std</th>\n",
       "      <td>0.255032</td>\n",
       "      <td>0.253384</td>\n",
       "      <td>0.204268</td>\n",
       "    </tr>\n",
       "    <tr>\n",
       "      <th>min</th>\n",
       "      <td>0.000000</td>\n",
       "      <td>0.000000</td>\n",
       "      <td>0.000000</td>\n",
       "    </tr>\n",
       "    <tr>\n",
       "      <th>25%</th>\n",
       "      <td>0.085165</td>\n",
       "      <td>0.000000</td>\n",
       "      <td>0.081444</td>\n",
       "    </tr>\n",
       "    <tr>\n",
       "      <th>50%</th>\n",
       "      <td>0.230769</td>\n",
       "      <td>0.142857</td>\n",
       "      <td>0.157312</td>\n",
       "    </tr>\n",
       "    <tr>\n",
       "      <th>75%</th>\n",
       "      <td>0.483516</td>\n",
       "      <td>0.285714</td>\n",
       "      <td>0.304241</td>\n",
       "    </tr>\n",
       "    <tr>\n",
       "      <th>max</th>\n",
       "      <td>1.000000</td>\n",
       "      <td>1.000000</td>\n",
       "      <td>1.000000</td>\n",
       "    </tr>\n",
       "  </tbody>\n",
       "</table>\n",
       "</div>"
      ],
      "text/plain": [
       "           Recency    Frequency     Monetary\n",
       "count  9473.000000  9473.000000  9473.000000\n",
       "mean      0.303045     0.201867     0.227963\n",
       "std       0.255032     0.253384     0.204268\n",
       "min       0.000000     0.000000     0.000000\n",
       "25%       0.085165     0.000000     0.081444\n",
       "50%       0.230769     0.142857     0.157312\n",
       "75%       0.483516     0.285714     0.304241\n",
       "max       1.000000     1.000000     1.000000"
      ]
     },
     "execution_count": 138,
     "metadata": {},
     "output_type": "execute_result"
    }
   ],
   "source": [
    "data_clean.describe()"
   ]
  },
  {
   "cell_type": "markdown",
   "id": "b17452ff",
   "metadata": {},
   "source": [
    "# <font color='Blue'> **6. Clustering** </font>\n",
    "---"
   ]
  },
  {
   "cell_type": "markdown",
   "id": "71108980",
   "metadata": {},
   "source": [
    "We use two approach:\n",
    "1. Ranking method\n",
    "2. K-means clustering"
   ]
  },
  {
   "cell_type": "markdown",
   "id": "e63f84a3",
   "metadata": {},
   "source": [
    "## **6.2 K-means Clustering**\n",
    "---"
   ]
  },
  {
   "cell_type": "markdown",
   "id": "46812e49",
   "metadata": {},
   "source": [
    "1. Elbow method\n",
    "2. K-means clustering"
   ]
  },
  {
   "cell_type": "code",
   "execution_count": 144,
   "id": "3d868277",
   "metadata": {},
   "outputs": [],
   "source": [
    "# Import package\n",
    "from sklearn.cluster import KMeans"
   ]
  },
  {
   "cell_type": "code",
   "execution_count": 145,
   "id": "a5cb1980",
   "metadata": {},
   "outputs": [],
   "source": [
    "data_cluster_clean = data_clean[['Recency', 'Frequency', 'Monetary']]"
   ]
  },
  {
   "cell_type": "code",
   "execution_count": 146,
   "id": "96ad4872",
   "metadata": {},
   "outputs": [],
   "source": [
    "# Set empty list\n",
    "inertia = []\n",
    "\n",
    "# iterate for\n",
    "for k in range(1, 11):\n",
    "    # create\n",
    "    kmeans = KMeans(n_clusters=k, random_state=42, n_init=10)\n",
    "\n",
    "    # fit object\n",
    "    kmeans.fit(data_cluster_clean)\n",
    "\n",
    "    # append results\n",
    "    inertia.append(kmeans.inertia_)\n"
   ]
  },
  {
   "cell_type": "code",
   "execution_count": 147,
   "id": "be1881c0",
   "metadata": {},
   "outputs": [
    {
     "data": {
      "text/plain": [
       "Text(0.5, 1.0, 'Elbow Method Showing the Optimal K')"
      ]
     },
     "execution_count": 147,
     "metadata": {},
     "output_type": "execute_result"
    },
    {
     "data": {
      "image/png": "[encoded data removed]",
      "text/plain": [
       "<Figure size 800x400 with 1 Axes>"
      ]
     },
     "metadata": {},
     "output_type": "display_data"
    }
   ],
   "source": [
    "plt.figure(figsize=(8, 4))\n",
    "\n",
    "# plt.plot(inertia)\n",
    "sns.lineplot(x=range(1, 11), y=inertia, color='#000087',\n",
    "             linewidth = 4, marker='o', markersize=10,\n",
    "             markerfacecolor='red')\n",
    "\n",
    "plt.xlabel('Number of Cluster', fontsize=12)\n",
    "plt.ylabel('Inertia', fontsize=12)\n",
    "plt.title('Elbow Method Showing the Optimal K', fontsize=20)"
   ]
  },
  {
   "cell_type": "markdown",
   "id": "523776ee",
   "metadata": {},
   "source": [
    "**Review elbow method**\n",
    "\n",
    "---\n",
    "\n",
    "- The optimal number of clusters is the point where adding another cluster does not significantly decrease WCSS\n",
    "- This point can be found by looking for a sharp bend or elbow in the WCSS graph\n",
    "- If so, then adding more clusters does not improve the clustering performance\n",
    "\n",
    "$$\n",
    "\\text{WCSS} = \\sum_{j=1}^{k} \\sum_{i=1}^{n} ||x_{(ij)} - c_{(j)}||^2\n",
    "$$\n",
    "\n",
    "where:\n",
    "- n represents the total number of data points\n",
    "- k represents the total number of clusters\n",
    "- xi represents the ith data point\n",
    "- cj represents the jth cluster centroid\n",
    "\n",
    "\n"
   ]
  },
  {
   "cell_type": "markdown",
   "id": "b8203023",
   "metadata": {},
   "source": [
    "**Elbow method analysis**\n",
    "\n",
    "---\n",
    "\n",
    "- We can see that there's no 'sharp bending' in the plot\n",
    "- It's approximately between `n_cluster 2` or `n_cluster 3`\n",
    "- we don't decide the number of cluster needed based on elbow method **only**, we should consinder the business needs\n",
    "- If we decide to cluster into 2 group, there's some drawbacks:\n",
    "    - Lack of granularity: With only two clusters, your customer segmentation becomes overly simplified, resulting in a lack of granularity. This can make it difficult to target specific customer groups effectively\n",
    "    - Ineffective messaging: Limited segmentation may lead to generalized marketing messages that do not resonate well with either cluster\n",
    "- So, we consider to use either `n_cluster` = 3 or `n_cluster` = 4, because our budget is still sufficient to cover until 5 clusters (based on assumption in RFM ranking method above)\n",
    "- **We can decide using** `n_cluster = 3`, because we can't see 'beding curve' on `n_cluster = 4` and `n_cluster = 5`"
   ]
  },
  {
   "cell_type": "markdown",
   "id": "8cc415e0",
   "metadata": {},
   "source": [
    "### **6.2.1 K-Means Clustering**\n",
    "\n",
    "---\n",
    "- We want to cluster using K-Means with `n_cluster = 3`\n",
    "- Find the centroids coordinate for clusters"
   ]
  },
  {
   "cell_type": "code",
   "execution_count": 148,
   "id": "c76c3df7",
   "metadata": {},
   "outputs": [
    {
     "data": {
      "text/html": [
       "<style>#sk-container-id-2 {color: black;background-color: white;}#sk-container-id-2 pre{padding: 0;}#sk-container-id-2 div.sk-toggleable {background-color: white;}#sk-container-id-2 label.sk-toggleable__label {cursor: pointer;display: block;width: 100%;margin-bottom: 0;padding: 0.3em;box-sizing: border-box;text-align: center;}#sk-container-id-2 label.sk-toggleable__label-arrow:before {content: \"▸\";float: left;margin-right: 0.25em;color: #696969;}#sk-container-id-2 label.sk-toggleable__label-arrow:hover:before {color: black;}#sk-container-id-2 div.sk-estimator:hover label.sk-toggleable__label-arrow:before {color: black;}#sk-container-id-2 div.sk-toggleable__content {max-height: 0;max-width: 0;overflow: hidden;text-align: left;background-color: #f0f8ff;}#sk-container-id-2 div.sk-toggleable__content pre {margin: 0.2em;color: black;border-radius: 0.25em;background-color: #f0f8ff;}#sk-container-id-2 input.sk-toggleable__control:checked~div.sk-toggleable__content {max-height: 200px;max-width: 100%;overflow: auto;}#sk-container-id-2 input.sk-toggleable__control:checked~label.sk-toggleable__label-arrow:before {content: \"▾\";}#sk-container-id-2 div.sk-estimator input.sk-toggleable__control:checked~label.sk-toggleable__label {background-color: #d4ebff;}#sk-container-id-2 div.sk-label input.sk-toggleable__control:checked~label.sk-toggleable__label {background-color: #d4ebff;}#sk-container-id-2 input.sk-hidden--visually {border: 0;clip: rect(1px 1px 1px 1px);clip: rect(1px, 1px, 1px, 1px);height: 1px;margin: -1px;overflow: hidden;padding: 0;position: absolute;width: 1px;}#sk-container-id-2 div.sk-estimator {font-family: monospace;background-color: #f0f8ff;border: 1px dotted black;border-radius: 0.25em;box-sizing: border-box;margin-bottom: 0.5em;}#sk-container-id-2 div.sk-estimator:hover {background-color: #d4ebff;}#sk-container-id-2 div.sk-parallel-item::after {content: \"\";width: 100%;border-bottom: 1px solid gray;flex-grow: 1;}#sk-container-id-2 div.sk-label:hover label.sk-toggleable__label {background-color: #d4ebff;}#sk-container-id-2 div.sk-serial::before {content: \"\";position: absolute;border-left: 1px solid gray;box-sizing: border-box;top: 0;bottom: 0;left: 50%;z-index: 0;}#sk-container-id-2 div.sk-serial {display: flex;flex-direction: column;align-items: center;background-color: white;padding-right: 0.2em;padding-left: 0.2em;position: relative;}#sk-container-id-2 div.sk-item {position: relative;z-index: 1;}#sk-container-id-2 div.sk-parallel {display: flex;align-items: stretch;justify-content: center;background-color: white;position: relative;}#sk-container-id-2 div.sk-item::before, #sk-container-id-2 div.sk-parallel-item::before {content: \"\";position: absolute;border-left: 1px solid gray;box-sizing: border-box;top: 0;bottom: 0;left: 50%;z-index: -1;}#sk-container-id-2 div.sk-parallel-item {display: flex;flex-direction: column;z-index: 1;position: relative;background-color: white;}#sk-container-id-2 div.sk-parallel-item:first-child::after {align-self: flex-end;width: 50%;}#sk-container-id-2 div.sk-parallel-item:last-child::after {align-self: flex-start;width: 50%;}#sk-container-id-2 div.sk-parallel-item:only-child::after {width: 0;}#sk-container-id-2 div.sk-dashed-wrapped {border: 1px dashed gray;margin: 0 0.4em 0.5em 0.4em;box-sizing: border-box;padding-bottom: 0.4em;background-color: white;}#sk-container-id-2 div.sk-label label {font-family: monospace;font-weight: bold;display: inline-block;line-height: 1.2em;}#sk-container-id-2 div.sk-label-container {text-align: center;}#sk-container-id-2 div.sk-container {/* jupyter's `normalize.less` sets `[hidden] { display: none; }` but bootstrap.min.css set `[hidden] { display: none !important; }` so we also need the `!important` here to be able to override the default hidden behavior on the sphinx rendered scikit-learn.org. See: https://github.com/scikit-learn/scikit-learn/issues/21755 */display: inline-block !important;position: relative;}#sk-container-id-2 div.sk-text-repr-fallback {display: none;}</style><div id=\"sk-container-id-2\" class=\"sk-top-container\"><div class=\"sk-text-repr-fallback\"><pre>KMeans(n_clusters=3, n_init=10, random_state=42)</pre><b>In a Jupyter environment, please rerun this cell to show the HTML representation or trust the notebook. <br />On GitHub, the HTML representation is unable to render, please try loading this page with nbviewer.org.</b></div><div class=\"sk-container\" hidden><div class=\"sk-item\"><div class=\"sk-estimator sk-toggleable\"><input class=\"sk-toggleable__control sk-hidden--visually\" id=\"sk-estimator-id-2\" type=\"checkbox\" checked><label for=\"sk-estimator-id-2\" class=\"sk-toggleable__label sk-toggleable__label-arrow\">KMeans</label><div class=\"sk-toggleable__content\"><pre>KMeans(n_clusters=3, n_init=10, random_state=42)</pre></div></div></div></div></div>"
      ],
      "text/plain": [
       "KMeans(n_clusters=3, n_init=10, random_state=42)"
      ]
     },
     "execution_count": 148,
     "metadata": {},
     "output_type": "execute_result"
    }
   ],
   "source": [
    "# Refit best data\n",
    "kmeans_best = KMeans(n_clusters = 3,\n",
    "                     random_state = 42,\n",
    "                     n_init = 10) # Number of times the k-means algorithm will be run with different initial centroids\n",
    "\n",
    "# fit\n",
    "kmeans_best.fit(data_cluster_clean)"
   ]
  },
  {
   "cell_type": "code",
   "execution_count": 149,
   "id": "b8bdc429",
   "metadata": {},
   "outputs": [
    {
     "data": {
      "text/plain": [
       "array([1, 0, 2, ..., 0, 0, 0])"
      ]
     },
     "execution_count": 149,
     "metadata": {},
     "output_type": "execute_result"
    }
   ],
   "source": [
    "# Predict\n",
    "data_label = kmeans_best.predict(data_cluster_clean)\n",
    "data_label"
   ]
  },
  {
   "cell_type": "code",
   "execution_count": 150,
   "id": "67624394",
   "metadata": {},
   "outputs": [],
   "source": [
    "# Get the coordinates of the centroids\n",
    "centroids = kmeans_best.cluster_centers_"
   ]
  },
  {
   "cell_type": "code",
   "execution_count": 151,
   "id": "68f323a1",
   "metadata": {},
   "outputs": [
    {
     "data": {
      "text/html": [
       "<div>\n",
       "<style scoped>\n",
       "    .dataframe tbody tr th:only-of-type {\n",
       "        vertical-align: middle;\n",
       "    }\n",
       "\n",
       "    .dataframe tbody tr th {\n",
       "        vertical-align: top;\n",
       "    }\n",
       "\n",
       "    .dataframe thead th {\n",
       "        text-align: right;\n",
       "    }\n",
       "</style>\n",
       "<table border=\"1\" class=\"dataframe\">\n",
       "  <thead>\n",
       "    <tr style=\"text-align: right;\">\n",
       "      <th></th>\n",
       "      <th>Recency</th>\n",
       "      <th>Frequency</th>\n",
       "      <th>Monetary</th>\n",
       "    </tr>\n",
       "    <tr>\n",
       "      <th>Cluster</th>\n",
       "      <th></th>\n",
       "      <th></th>\n",
       "      <th></th>\n",
       "    </tr>\n",
       "  </thead>\n",
       "  <tbody>\n",
       "    <tr>\n",
       "      <th>0</th>\n",
       "      <td>0.166852</td>\n",
       "      <td>0.107273</td>\n",
       "      <td>0.158071</td>\n",
       "    </tr>\n",
       "    <tr>\n",
       "      <th>1</th>\n",
       "      <td>0.642309</td>\n",
       "      <td>0.072126</td>\n",
       "      <td>0.165000</td>\n",
       "    </tr>\n",
       "    <tr>\n",
       "      <th>2</th>\n",
       "      <td>0.154462</td>\n",
       "      <td>0.591121</td>\n",
       "      <td>0.471231</td>\n",
       "    </tr>\n",
       "  </tbody>\n",
       "</table>\n",
       "</div>"
      ],
      "text/plain": [
       "          Recency  Frequency  Monetary\n",
       "Cluster                               \n",
       "0        0.166852   0.107273  0.158071\n",
       "1        0.642309   0.072126  0.165000\n",
       "2        0.154462   0.591121  0.471231"
      ]
     },
     "execution_count": 151,
     "metadata": {},
     "output_type": "execute_result"
    }
   ],
   "source": [
    "# create dataframe\n",
    "centroid_df = pd.DataFrame(centroids,\n",
    "                           columns=['Recency', 'Frequency', 'Monetary']).rename_axis('Cluster', axis='index')\n",
    "\n",
    "# show dataframe centroid\n",
    "centroid_df"
   ]
  },
  {
   "cell_type": "markdown",
   "id": "8df4bc76",
   "metadata": {},
   "source": [
    "### **6.2.2 Analysis**\n",
    "\n",
    "---"
   ]
  },
  {
   "cell_type": "markdown",
   "id": "5a6ee9b4",
   "metadata": {},
   "source": [
    "- The inverse_transform method is used to reverse or undo this scaling transformation and bring the data back to its original scale or format\n",
    "- By using inverse_transform, you can obtain the original unscaled values, which can be useful for analysis, visualization, or any other further processing that requires the data to be in its original form."
   ]
  },
  {
   "cell_type": "code",
   "execution_count": 152,
   "id": "0341f643",
   "metadata": {},
   "outputs": [
    {
     "data": {
      "text/html": [
       "<div>\n",
       "<style scoped>\n",
       "    .dataframe tbody tr th:only-of-type {\n",
       "        vertical-align: middle;\n",
       "    }\n",
       "\n",
       "    .dataframe tbody tr th {\n",
       "        vertical-align: top;\n",
       "    }\n",
       "\n",
       "    .dataframe thead th {\n",
       "        text-align: right;\n",
       "    }\n",
       "</style>\n",
       "<table border=\"1\" class=\"dataframe\">\n",
       "  <thead>\n",
       "    <tr style=\"text-align: right;\">\n",
       "      <th></th>\n",
       "      <th>Recency</th>\n",
       "      <th>Frequency</th>\n",
       "      <th>Monetary</th>\n",
       "      <th>label</th>\n",
       "    </tr>\n",
       "    <tr>\n",
       "      <th>Customer_ID</th>\n",
       "      <th></th>\n",
       "      <th></th>\n",
       "      <th></th>\n",
       "      <th></th>\n",
       "    </tr>\n",
       "  </thead>\n",
       "  <tbody>\n",
       "    <tr>\n",
       "      <th>2</th>\n",
       "      <td>197.0</td>\n",
       "      <td>2.0</td>\n",
       "      <td>22.77</td>\n",
       "      <td>1</td>\n",
       "    </tr>\n",
       "    <tr>\n",
       "      <th>4</th>\n",
       "      <td>56.0</td>\n",
       "      <td>2.0</td>\n",
       "      <td>33.29</td>\n",
       "      <td>0</td>\n",
       "    </tr>\n",
       "    <tr>\n",
       "      <th>5</th>\n",
       "      <td>122.0</td>\n",
       "      <td>5.0</td>\n",
       "      <td>78.82</td>\n",
       "      <td>2</td>\n",
       "    </tr>\n",
       "    <tr>\n",
       "      <th>13</th>\n",
       "      <td>61.0</td>\n",
       "      <td>2.0</td>\n",
       "      <td>53.24</td>\n",
       "      <td>0</td>\n",
       "    </tr>\n",
       "    <tr>\n",
       "      <th>16</th>\n",
       "      <td>259.0</td>\n",
       "      <td>2.0</td>\n",
       "      <td>62.16</td>\n",
       "      <td>1</td>\n",
       "    </tr>\n",
       "  </tbody>\n",
       "</table>\n",
       "</div>"
      ],
      "text/plain": [
       "             Recency  Frequency  Monetary  label\n",
       "Customer_ID                                     \n",
       "2              197.0        2.0     22.77      1\n",
       "4               56.0        2.0     33.29      0\n",
       "5              122.0        5.0     78.82      2\n",
       "13              61.0        2.0     53.24      0\n",
       "16             259.0        2.0     62.16      1"
      ]
     },
     "execution_count": 152,
     "metadata": {},
     "output_type": "execute_result"
    }
   ],
   "source": [
    "# Inverse transform data\n",
    "data_cluster = pd.DataFrame(scaler.inverse_transform(data_clean))\n",
    "data_cluster.index = data_clean.index\n",
    "data_cluster.columns = data_clean.columns\n",
    "\n",
    "# Build data\n",
    "data_cluster = data_cluster[['Recency', 'Frequency', 'Monetary']]\n",
    "data_cluster['label'] = data_label\n",
    "data_cluster.head()"
   ]
  },
  {
   "cell_type": "code",
   "execution_count": 153,
   "id": "e7a7cea1",
   "metadata": {},
   "outputs": [
    {
     "data": {
      "text/html": [
       "<div>\n",
       "<style scoped>\n",
       "    .dataframe tbody tr th:only-of-type {\n",
       "        vertical-align: middle;\n",
       "    }\n",
       "\n",
       "    .dataframe tbody tr th {\n",
       "        vertical-align: top;\n",
       "    }\n",
       "\n",
       "    .dataframe thead th {\n",
       "        text-align: right;\n",
       "    }\n",
       "</style>\n",
       "<table border=\"1\" class=\"dataframe\">\n",
       "  <thead>\n",
       "    <tr style=\"text-align: right;\">\n",
       "      <th></th>\n",
       "      <th>Recency</th>\n",
       "      <th>Frequency</th>\n",
       "      <th>Monetary</th>\n",
       "      <th>label</th>\n",
       "    </tr>\n",
       "    <tr>\n",
       "      <th>label</th>\n",
       "      <th></th>\n",
       "      <th></th>\n",
       "      <th></th>\n",
       "      <th></th>\n",
       "    </tr>\n",
       "  </thead>\n",
       "  <tbody>\n",
       "    <tr>\n",
       "      <th>0</th>\n",
       "      <td>62.8</td>\n",
       "      <td>2.8</td>\n",
       "      <td>45.3</td>\n",
       "      <td>4655</td>\n",
       "    </tr>\n",
       "    <tr>\n",
       "      <th>1</th>\n",
       "      <td>235.8</td>\n",
       "      <td>2.5</td>\n",
       "      <td>47.2</td>\n",
       "      <td>2766</td>\n",
       "    </tr>\n",
       "    <tr>\n",
       "      <th>2</th>\n",
       "      <td>58.2</td>\n",
       "      <td>6.1</td>\n",
       "      <td>130.7</td>\n",
       "      <td>2052</td>\n",
       "    </tr>\n",
       "  </tbody>\n",
       "</table>\n",
       "</div>"
      ],
      "text/plain": [
       "       Recency  Frequency  Monetary  label\n",
       "label                                     \n",
       "0         62.8        2.8      45.3   4655\n",
       "1        235.8        2.5      47.2   2766\n",
       "2         58.2        6.1     130.7   2052"
      ]
     },
     "execution_count": 153,
     "metadata": {},
     "output_type": "execute_result"
    }
   ],
   "source": [
    "# Calculate average values for each RFM_Level, and return a size of each segment\n",
    "data_cluster.groupby('label').agg({\n",
    "    'Recency': 'mean',\n",
    "    'Frequency': 'mean',\n",
    "    'Monetary': 'mean',\n",
    "    'label':'count',\n",
    "}).round(1)"
   ]
  },
  {
   "cell_type": "markdown",
   "id": "6cd31f76",
   "metadata": {},
   "source": [
    "- **Cluster 0** --> Average Customers\n",
    "  - **Characteristic**: low recency, medium frequency & monetary\n",
    "\n",
    "<br>\n",
    "\n",
    "- **Cluster 1** --> At Risk Customers\n",
    "  - **Characteristic**: high recency, low frequency & monetary\n",
    "\n",
    "<br>\n",
    "\n",
    "- **Cluster 2** --> Best Customers\n",
    "  - Characteristic: low recency, high frequency & monetary"
   ]
  },
  {
   "cell_type": "markdown",
   "id": "f07b5c74",
   "metadata": {},
   "source": [
    "We will assign the \"Customer Type\" label,**note**, you may got the different result, so check the label customer type with the data"
   ]
  },
  {
   "cell_type": "code",
   "execution_count": 154,
   "id": "1c8dab4c",
   "metadata": {},
   "outputs": [
    {
     "data": {
      "text/html": [
       "<div>\n",
       "<style scoped>\n",
       "    .dataframe tbody tr th:only-of-type {\n",
       "        vertical-align: middle;\n",
       "    }\n",
       "\n",
       "    .dataframe tbody tr th {\n",
       "        vertical-align: top;\n",
       "    }\n",
       "\n",
       "    .dataframe thead th {\n",
       "        text-align: right;\n",
       "    }\n",
       "</style>\n",
       "<table border=\"1\" class=\"dataframe\">\n",
       "  <thead>\n",
       "    <tr style=\"text-align: right;\">\n",
       "      <th></th>\n",
       "      <th>Recency</th>\n",
       "      <th>Frequency</th>\n",
       "      <th>Monetary</th>\n",
       "      <th>label</th>\n",
       "      <th>Customer_Type</th>\n",
       "    </tr>\n",
       "    <tr>\n",
       "      <th>Customer_ID</th>\n",
       "      <th></th>\n",
       "      <th></th>\n",
       "      <th></th>\n",
       "      <th></th>\n",
       "      <th></th>\n",
       "    </tr>\n",
       "  </thead>\n",
       "  <tbody>\n",
       "    <tr>\n",
       "      <th>2</th>\n",
       "      <td>197.0</td>\n",
       "      <td>2.0</td>\n",
       "      <td>22.77</td>\n",
       "      <td>1</td>\n",
       "      <td>At Risk Customer</td>\n",
       "    </tr>\n",
       "    <tr>\n",
       "      <th>4</th>\n",
       "      <td>56.0</td>\n",
       "      <td>2.0</td>\n",
       "      <td>33.29</td>\n",
       "      <td>0</td>\n",
       "      <td>Average Customer</td>\n",
       "    </tr>\n",
       "    <tr>\n",
       "      <th>5</th>\n",
       "      <td>122.0</td>\n",
       "      <td>5.0</td>\n",
       "      <td>78.82</td>\n",
       "      <td>2</td>\n",
       "      <td>Best Customer</td>\n",
       "    </tr>\n",
       "    <tr>\n",
       "      <th>13</th>\n",
       "      <td>61.0</td>\n",
       "      <td>2.0</td>\n",
       "      <td>53.24</td>\n",
       "      <td>0</td>\n",
       "      <td>Average Customer</td>\n",
       "    </tr>\n",
       "    <tr>\n",
       "      <th>16</th>\n",
       "      <td>259.0</td>\n",
       "      <td>2.0</td>\n",
       "      <td>62.16</td>\n",
       "      <td>1</td>\n",
       "      <td>At Risk Customer</td>\n",
       "    </tr>\n",
       "  </tbody>\n",
       "</table>\n",
       "</div>"
      ],
      "text/plain": [
       "             Recency  Frequency  Monetary  label     Customer_Type\n",
       "Customer_ID                                                       \n",
       "2              197.0        2.0     22.77      1  At Risk Customer\n",
       "4               56.0        2.0     33.29      0  Average Customer\n",
       "5              122.0        5.0     78.82      2     Best Customer\n",
       "13              61.0        2.0     53.24      0  Average Customer\n",
       "16             259.0        2.0     62.16      1  At Risk Customer"
      ]
     },
     "execution_count": 154,
     "metadata": {},
     "output_type": "execute_result"
    }
   ],
   "source": [
    "# Function to assign label\n",
    "def assign_label(val):\n",
    "    \"\"\"Function to assign label\"\"\"\n",
    "    if val == 0:\n",
    "        return 'Average Customer'\n",
    "    elif val == 1:\n",
    "        return 'At Risk Customer'\n",
    "    else:\n",
    "        return 'Best Customer'\n",
    "\n",
    "# Create a new column 'Customer_Type' based on 'K_cluster' values\n",
    "data_cluster['Customer_Type'] = data_cluster['label'].apply(assign_label)\n",
    "\n",
    "# check result\n",
    "data_cluster.head()"
   ]
  },
  {
   "cell_type": "code",
   "execution_count": 155,
   "id": "6f384938",
   "metadata": {},
   "outputs": [
    {
     "data": {
      "image/png": "[encoded data removed]",
      "text/plain": [
       "<Figure size 1000x2000 with 3 Axes>"
      ]
     },
     "metadata": {},
     "output_type": "display_data"
    }
   ],
   "source": [
    "# Plot with boxplot\n",
    "fig, axes = plt.subplots(nrows=3, ncols=1, figsize=(10, 20))\n",
    "\n",
    "# Iterate over column\n",
    "for i, col in enumerate(['Recency', 'Frequency', 'Monetary']):\n",
    "    sns.boxplot(data = data_cluster,\n",
    "                y = 'Customer_Type',\n",
    "                x = col,\n",
    "                ax = axes[i])\n",
    "\n",
    "    axes[i].set_title(f'{col} Distribution')\n",
    "\n",
    "plt.tight_layout()\n",
    "plt.show()"
   ]
  },
  {
   "cell_type": "code",
   "execution_count": 156,
   "id": "8b71818b",
   "metadata": {},
   "outputs": [
    {
     "data": {
      "text/html": [
       "<div>\n",
       "<style scoped>\n",
       "    .dataframe tbody tr th:only-of-type {\n",
       "        vertical-align: middle;\n",
       "    }\n",
       "\n",
       "    .dataframe tbody tr th {\n",
       "        vertical-align: top;\n",
       "    }\n",
       "\n",
       "    .dataframe thead th {\n",
       "        text-align: right;\n",
       "    }\n",
       "</style>\n",
       "<table border=\"1\" class=\"dataframe\">\n",
       "  <thead>\n",
       "    <tr style=\"text-align: right;\">\n",
       "      <th></th>\n",
       "      <th>Recency</th>\n",
       "      <th>Frequency</th>\n",
       "      <th>Monetary</th>\n",
       "      <th>label</th>\n",
       "    </tr>\n",
       "    <tr>\n",
       "      <th>label</th>\n",
       "      <th></th>\n",
       "      <th></th>\n",
       "      <th></th>\n",
       "      <th></th>\n",
       "    </tr>\n",
       "  </thead>\n",
       "  <tbody>\n",
       "    <tr>\n",
       "      <th>0</th>\n",
       "      <td>62.8</td>\n",
       "      <td>2.8</td>\n",
       "      <td>45.3</td>\n",
       "      <td>4655</td>\n",
       "    </tr>\n",
       "    <tr>\n",
       "      <th>1</th>\n",
       "      <td>235.8</td>\n",
       "      <td>2.5</td>\n",
       "      <td>47.2</td>\n",
       "      <td>2766</td>\n",
       "    </tr>\n",
       "    <tr>\n",
       "      <th>2</th>\n",
       "      <td>58.2</td>\n",
       "      <td>6.1</td>\n",
       "      <td>130.7</td>\n",
       "      <td>2052</td>\n",
       "    </tr>\n",
       "  </tbody>\n",
       "</table>\n",
       "</div>"
      ],
      "text/plain": [
       "       Recency  Frequency  Monetary  label\n",
       "label                                     \n",
       "0         62.8        2.8      45.3   4655\n",
       "1        235.8        2.5      47.2   2766\n",
       "2         58.2        6.1     130.7   2052"
      ]
     },
     "execution_count": 156,
     "metadata": {},
     "output_type": "execute_result"
    }
   ],
   "source": [
    "# Calculate average values for each RFM_Level, and return a size of each segment\n",
    "data_cluster.groupby('label').agg({\n",
    "    'Recency': 'mean',\n",
    "    'Frequency': 'mean',\n",
    "    'Monetary': 'mean',\n",
    "    'label':'count',\n",
    "}).round(1)"
   ]
  },
  {
   "cell_type": "markdown",
   "id": "70851afb",
   "metadata": {},
   "source": [
    "**General Recommendation**"
   ]
  },
  {
   "cell_type": "markdown",
   "id": "09f89bb7",
   "metadata": {},
   "source": [
    "**Best Customers**\n",
    "\n",
    "---\n",
    "\n",
    "- General Characteristic (Low recency, high frequency & monetary)\n",
    "  - Recency : 58 days\n",
    "  - Frequency : 6 transactions\n",
    "  - Monetary : \\$ 130\n",
    "\n",
    "- General marketing initiatives:\n",
    "  - Loyalty Programs: Implement a loyalty program that rewards customers for their frequent transactions and high spending.\n",
    "  - Personalized Recommendations: Leverage customer data to provide personalized product recommendations based on their previous purchases.\n",
    "  - Targeted Email Campaigns: Send targeted email campaigns to these best customers, featuring new arrivals, special promotions, or exclusive offers tailored to their preferences."
   ]
  },
  {
   "cell_type": "markdown",
   "id": "d1ec533d",
   "metadata": {},
   "source": [
    "**Average Customers**\n",
    "\n",
    "---\n",
    "\n",
    "\n",
    "- General Characteristic (high recency, low frequency & monetary)\n",
    "  - Recency : 63 days\n",
    "  - Frequency : 2.8 transactions (specifically 2.8 transactions)\n",
    "  - Monetary : \\$ 45\n",
    "\n",
    "\n",
    "\n",
    "- General marketing initiatives:\n",
    "  - Segmentation: Further segment the \"Average Customers\" group based on their specific transaction behaviors. "
   ]
  },
  {
   "cell_type": "markdown",
   "id": "88d83890",
   "metadata": {},
   "source": [
    "**At Risk Customers**\n",
    "\n",
    "---\n",
    "\n",
    "- General Characteristic (Low recency, medium frequency & monetary)\n",
    "  - Recency : 236 days\n",
    "  - Frequency : 2~3 transactions (specifically 2.5 transactions)\n",
    "  - Monetary : \\$ 47.2\n",
    "\n",
    "\n",
    "\n",
    "- General Marketing initiative:\n",
    "  - Feedback and Surveys: Seek feedback from these customers to understand their preferences and any potential pain points.\n",
    "  - Frequency-Based Discounts: Offer discounts or rewards based on the number of transactions."
   ]
  },
  {
   "cell_type": "markdown",
   "id": "da5ae82e",
   "metadata": {},
   "source": [
    "# <font color='Blue'> **7. In Depth Analysis & Recommendation**\n",
    "---"
   ]
  },
  {
   "cell_type": "markdown",
   "id": "15ad546c",
   "metadata": {},
   "source": [
    "- We want to perform a more specific analysis of the RFM data.\n",
    "- We want to conduct an analysis and take various conditions into consideration, such as short-term and long-term games, when making specific recommendations.\n",
    "- Identify suitable business recommendations and implement marketing initiatives based on the analysis"
   ]
  },
  {
   "cell_type": "code",
   "execution_count": 157,
   "id": "d99b5cc1",
   "metadata": {},
   "outputs": [],
   "source": [
    "# Apply inverse scaling to the data_clean DataFrame\n",
    "data_clean_ori = pd.DataFrame(scaler.inverse_transform(data_clean))\n",
    "\n",
    "# Assign the original index to the new DataFrame\n",
    "data_clean_ori.index = data_clean.index\n",
    "\n",
    " # Assign the original column names to the new DataFrame\n",
    "data_clean_ori.columns = data_clean.columns"
   ]
  },
  {
   "cell_type": "code",
   "execution_count": 158,
   "id": "c4194381",
   "metadata": {},
   "outputs": [
    {
     "data": {
      "text/html": [
       "<div>\n",
       "<style scoped>\n",
       "    .dataframe tbody tr th:only-of-type {\n",
       "        vertical-align: middle;\n",
       "    }\n",
       "\n",
       "    .dataframe tbody tr th {\n",
       "        vertical-align: top;\n",
       "    }\n",
       "\n",
       "    .dataframe thead th {\n",
       "        text-align: right;\n",
       "    }\n",
       "</style>\n",
       "<table border=\"1\" class=\"dataframe\">\n",
       "  <thead>\n",
       "    <tr style=\"text-align: right;\">\n",
       "      <th></th>\n",
       "      <th>Recency</th>\n",
       "      <th>Frequency</th>\n",
       "      <th>Monetary</th>\n",
       "    </tr>\n",
       "    <tr>\n",
       "      <th>Customer_ID</th>\n",
       "      <th></th>\n",
       "      <th></th>\n",
       "      <th></th>\n",
       "    </tr>\n",
       "  </thead>\n",
       "  <tbody>\n",
       "    <tr>\n",
       "      <th>2</th>\n",
       "      <td>197.0</td>\n",
       "      <td>2.0</td>\n",
       "      <td>22.77</td>\n",
       "    </tr>\n",
       "    <tr>\n",
       "      <th>4</th>\n",
       "      <td>56.0</td>\n",
       "      <td>2.0</td>\n",
       "      <td>33.29</td>\n",
       "    </tr>\n",
       "    <tr>\n",
       "      <th>5</th>\n",
       "      <td>122.0</td>\n",
       "      <td>5.0</td>\n",
       "      <td>78.82</td>\n",
       "    </tr>\n",
       "    <tr>\n",
       "      <th>13</th>\n",
       "      <td>61.0</td>\n",
       "      <td>2.0</td>\n",
       "      <td>53.24</td>\n",
       "    </tr>\n",
       "    <tr>\n",
       "      <th>16</th>\n",
       "      <td>259.0</td>\n",
       "      <td>2.0</td>\n",
       "      <td>62.16</td>\n",
       "    </tr>\n",
       "  </tbody>\n",
       "</table>\n",
       "</div>"
      ],
      "text/plain": [
       "             Recency  Frequency  Monetary\n",
       "Customer_ID                              \n",
       "2              197.0        2.0     22.77\n",
       "4               56.0        2.0     33.29\n",
       "5              122.0        5.0     78.82\n",
       "13              61.0        2.0     53.24\n",
       "16             259.0        2.0     62.16"
      ]
     },
     "execution_count": 158,
     "metadata": {},
     "output_type": "execute_result"
    }
   ],
   "source": [
    "# show the clean data\n",
    "data_clean_ori.head()"
   ]
  },
  {
   "cell_type": "markdown",
   "id": "fb51aeba",
   "metadata": {},
   "source": [
    "## **8.1 In Depth Analysis**\n",
    "\n",
    "---\n",
    "- We want to know how most customers purchase behavior\n",
    "- We want to make foundation for specific recommendation based on specific condition and segment"
   ]
  },
  {
   "cell_type": "code",
   "execution_count": 159,
   "id": "909db264",
   "metadata": {},
   "outputs": [
    {
     "data": {
      "text/html": [
       "<div>\n",
       "<style scoped>\n",
       "    .dataframe tbody tr th:only-of-type {\n",
       "        vertical-align: middle;\n",
       "    }\n",
       "\n",
       "    .dataframe tbody tr th {\n",
       "        vertical-align: top;\n",
       "    }\n",
       "\n",
       "    .dataframe thead th {\n",
       "        text-align: right;\n",
       "    }\n",
       "</style>\n",
       "<table border=\"1\" class=\"dataframe\">\n",
       "  <thead>\n",
       "    <tr style=\"text-align: right;\">\n",
       "      <th></th>\n",
       "      <th>Recency</th>\n",
       "      <th>Frequency</th>\n",
       "      <th>Monetary</th>\n",
       "    </tr>\n",
       "  </thead>\n",
       "  <tbody>\n",
       "    <tr>\n",
       "      <th>count</th>\n",
       "      <td>9473.000000</td>\n",
       "      <td>9473.000000</td>\n",
       "      <td>9473.000000</td>\n",
       "    </tr>\n",
       "    <tr>\n",
       "      <th>mean</th>\n",
       "      <td>112.308244</td>\n",
       "      <td>3.413069</td>\n",
       "      <td>64.378192</td>\n",
       "    </tr>\n",
       "    <tr>\n",
       "      <th>std</th>\n",
       "      <td>92.831597</td>\n",
       "      <td>1.773689</td>\n",
       "      <td>55.679319</td>\n",
       "    </tr>\n",
       "    <tr>\n",
       "      <th>min</th>\n",
       "      <td>2.000000</td>\n",
       "      <td>2.000000</td>\n",
       "      <td>2.240000</td>\n",
       "    </tr>\n",
       "    <tr>\n",
       "      <th>25%</th>\n",
       "      <td>33.000000</td>\n",
       "      <td>2.000000</td>\n",
       "      <td>24.440000</td>\n",
       "    </tr>\n",
       "    <tr>\n",
       "      <th>50%</th>\n",
       "      <td>86.000000</td>\n",
       "      <td>3.000000</td>\n",
       "      <td>45.120000</td>\n",
       "    </tr>\n",
       "    <tr>\n",
       "      <th>75%</th>\n",
       "      <td>178.000000</td>\n",
       "      <td>4.000000</td>\n",
       "      <td>85.170000</td>\n",
       "    </tr>\n",
       "    <tr>\n",
       "      <th>max</th>\n",
       "      <td>366.000000</td>\n",
       "      <td>9.000000</td>\n",
       "      <td>274.820000</td>\n",
       "    </tr>\n",
       "  </tbody>\n",
       "</table>\n",
       "</div>"
      ],
      "text/plain": [
       "           Recency    Frequency     Monetary\n",
       "count  9473.000000  9473.000000  9473.000000\n",
       "mean    112.308244     3.413069    64.378192\n",
       "std      92.831597     1.773689    55.679319\n",
       "min       2.000000     2.000000     2.240000\n",
       "25%      33.000000     2.000000    24.440000\n",
       "50%      86.000000     3.000000    45.120000\n",
       "75%     178.000000     4.000000    85.170000\n",
       "max     366.000000     9.000000   274.820000"
      ]
     },
     "execution_count": 159,
     "metadata": {},
     "output_type": "execute_result"
    }
   ],
   "source": [
    "# show desc stats\n",
    "data_clean_ori.describe()"
   ]
  },
  {
   "cell_type": "code",
   "execution_count": 160,
   "id": "cd6340ed",
   "metadata": {},
   "outputs": [
    {
     "data": {
      "text/plain": [
       "Text(0.5, 1.0, 'Recency Distribution')"
      ]
     },
     "execution_count": 160,
     "metadata": {},
     "output_type": "execute_result"
    },
    {
     "data": {
      "image/png": "[encoded data removed]",
      "text/plain": [
       "<Figure size 1000x1000 with 1 Axes>"
      ]
     },
     "metadata": {},
     "output_type": "display_data"
    }
   ],
   "source": [
    "# Plot recency\n",
    "plt.figure(figsize=(10,10))\n",
    "sns.histplot(data_clean_ori['Recency'])\n",
    "plt.title('Recency Distribution', fontsize=15)"
   ]
  },
  {
   "cell_type": "markdown",
   "id": "cb439957",
   "metadata": {},
   "source": [
    "- The majority of customers shop recently\n",
    "- The highest count is customers who shop less than 10 days ago\n",
    "- It good for the business, low recency customers are more likely to make transaction when we give them marketing initiative"
   ]
  },
  {
   "cell_type": "code",
   "execution_count": 161,
   "id": "529af833",
   "metadata": {},
   "outputs": [
    {
     "data": {
      "text/plain": [
       "Text(0.5, 1.0, 'Monetary Distribution')"
      ]
     },
     "execution_count": 161,
     "metadata": {},
     "output_type": "execute_result"
    },
    {
     "data": {
      "image/png": "[encoded data removed]",
      "text/plain": [
       "<Figure size 1000x1000 with 1 Axes>"
      ]
     },
     "metadata": {},
     "output_type": "display_data"
    }
   ],
   "source": [
    "# Plot monetary\n",
    "plt.figure(figsize=(10,10))\n",
    "sns.histplot(data_clean_ori['Monetary'])\n",
    "plt.title('Monetary Distribution', fontsize=15)\n",
    "#plt.xlim(0,40000)"
   ]
  },
  {
   "cell_type": "markdown",
   "id": "05f7aa00",
   "metadata": {},
   "source": [
    "- Most customers spend around $ \\$16 - \\$70 $ (min - quantile 0.75)\n",
    "- It's relatively low for 1 year transaction"
   ]
  },
  {
   "cell_type": "code",
   "execution_count": 162,
   "id": "50aa7c5a",
   "metadata": {},
   "outputs": [
    {
     "data": {
      "text/plain": [
       "Text(0.5, 1.0, 'Frequency Distribution')"
      ]
     },
     "execution_count": 162,
     "metadata": {},
     "output_type": "execute_result"
    },
    {
     "data": {
      "image/png": "[encoded data removed]",
      "text/plain": [
       "<Figure size 1000x1000 with 1 Axes>"
      ]
     },
     "metadata": {},
     "output_type": "display_data"
    }
   ],
   "source": [
    "# Plot monetary\n",
    "plt.figure(figsize=(10,10))\n",
    "sns.histplot(data_clean_ori['Frequency'])\n",
    "plt.title('Frequency Distribution', fontsize=15)"
   ]
  },
  {
   "cell_type": "markdown",
   "id": "2efbcace",
   "metadata": {},
   "source": [
    "- Most customers spend around 2 - 4 times\n",
    "- It's relatively low for 1 year transaction"
   ]
  },
  {
   "cell_type": "markdown",
   "id": "00bc16df",
   "metadata": {},
   "source": [
    "**RFM with actual values**"
   ]
  },
  {
   "cell_type": "code",
   "execution_count": 163,
   "id": "30df4a5f",
   "metadata": {},
   "outputs": [
    {
     "data": {
      "text/html": [
       "<div>\n",
       "<style scoped>\n",
       "    .dataframe tbody tr th:only-of-type {\n",
       "        vertical-align: middle;\n",
       "    }\n",
       "\n",
       "    .dataframe tbody tr th {\n",
       "        vertical-align: top;\n",
       "    }\n",
       "\n",
       "    .dataframe thead th {\n",
       "        text-align: right;\n",
       "    }\n",
       "</style>\n",
       "<table border=\"1\" class=\"dataframe\">\n",
       "  <thead>\n",
       "    <tr style=\"text-align: right;\">\n",
       "      <th></th>\n",
       "      <th>Recency</th>\n",
       "      <th>Frequency</th>\n",
       "      <th>Monetary</th>\n",
       "      <th>label</th>\n",
       "      <th>Customer_Type</th>\n",
       "    </tr>\n",
       "    <tr>\n",
       "      <th>Customer_ID</th>\n",
       "      <th></th>\n",
       "      <th></th>\n",
       "      <th></th>\n",
       "      <th></th>\n",
       "      <th></th>\n",
       "    </tr>\n",
       "  </thead>\n",
       "  <tbody>\n",
       "    <tr>\n",
       "      <th>2</th>\n",
       "      <td>197.0</td>\n",
       "      <td>2.0</td>\n",
       "      <td>22.77</td>\n",
       "      <td>1</td>\n",
       "      <td>At Risk Customer</td>\n",
       "    </tr>\n",
       "    <tr>\n",
       "      <th>4</th>\n",
       "      <td>56.0</td>\n",
       "      <td>2.0</td>\n",
       "      <td>33.29</td>\n",
       "      <td>0</td>\n",
       "      <td>Average Customer</td>\n",
       "    </tr>\n",
       "    <tr>\n",
       "      <th>5</th>\n",
       "      <td>122.0</td>\n",
       "      <td>5.0</td>\n",
       "      <td>78.82</td>\n",
       "      <td>2</td>\n",
       "      <td>Best Customer</td>\n",
       "    </tr>\n",
       "    <tr>\n",
       "      <th>13</th>\n",
       "      <td>61.0</td>\n",
       "      <td>2.0</td>\n",
       "      <td>53.24</td>\n",
       "      <td>0</td>\n",
       "      <td>Average Customer</td>\n",
       "    </tr>\n",
       "    <tr>\n",
       "      <th>16</th>\n",
       "      <td>259.0</td>\n",
       "      <td>2.0</td>\n",
       "      <td>62.16</td>\n",
       "      <td>1</td>\n",
       "      <td>At Risk Customer</td>\n",
       "    </tr>\n",
       "  </tbody>\n",
       "</table>\n",
       "</div>"
      ],
      "text/plain": [
       "             Recency  Frequency  Monetary  label     Customer_Type\n",
       "Customer_ID                                                       \n",
       "2              197.0        2.0     22.77      1  At Risk Customer\n",
       "4               56.0        2.0     33.29      0  Average Customer\n",
       "5              122.0        5.0     78.82      2     Best Customer\n",
       "13              61.0        2.0     53.24      0  Average Customer\n",
       "16             259.0        2.0     62.16      1  At Risk Customer"
      ]
     },
     "execution_count": 163,
     "metadata": {},
     "output_type": "execute_result"
    }
   ],
   "source": [
    "# show clustered data\n",
    "data_cluster.head()"
   ]
  },
  {
   "cell_type": "code",
   "execution_count": 164,
   "id": "fc4cae9d",
   "metadata": {},
   "outputs": [],
   "source": [
    "# Calculate average values for each RFM_Level, and return a size of each segment\n",
    "rfm_datas_agg = data_cluster.groupby('Customer_Type').agg({\n",
    "    'Recency': 'mean',\n",
    "    'Frequency': 'mean',\n",
    "    'Monetary': 'mean',\n",
    "    'label':'count',\n",
    "}).round(1)\n",
    "\n",
    "# rename\n",
    "rfm_datas_agg.columns = ['Recency', 'Frequency', 'Monetary', 'Count Customers']"
   ]
  },
  {
   "cell_type": "code",
   "execution_count": 165,
   "id": "9f07f35b",
   "metadata": {},
   "outputs": [
    {
     "data": {
      "text/html": [
       "<div>\n",
       "<style scoped>\n",
       "    .dataframe tbody tr th:only-of-type {\n",
       "        vertical-align: middle;\n",
       "    }\n",
       "\n",
       "    .dataframe tbody tr th {\n",
       "        vertical-align: top;\n",
       "    }\n",
       "\n",
       "    .dataframe thead th {\n",
       "        text-align: right;\n",
       "    }\n",
       "</style>\n",
       "<table border=\"1\" class=\"dataframe\">\n",
       "  <thead>\n",
       "    <tr style=\"text-align: right;\">\n",
       "      <th></th>\n",
       "      <th>Recency</th>\n",
       "      <th>Frequency</th>\n",
       "      <th>Monetary</th>\n",
       "      <th>Count Customers</th>\n",
       "    </tr>\n",
       "    <tr>\n",
       "      <th>Customer_Type</th>\n",
       "      <th></th>\n",
       "      <th></th>\n",
       "      <th></th>\n",
       "      <th></th>\n",
       "    </tr>\n",
       "  </thead>\n",
       "  <tbody>\n",
       "    <tr>\n",
       "      <th>At Risk Customer</th>\n",
       "      <td>235.8</td>\n",
       "      <td>2.5</td>\n",
       "      <td>47.2</td>\n",
       "      <td>2766</td>\n",
       "    </tr>\n",
       "    <tr>\n",
       "      <th>Average Customer</th>\n",
       "      <td>62.8</td>\n",
       "      <td>2.8</td>\n",
       "      <td>45.3</td>\n",
       "      <td>4655</td>\n",
       "    </tr>\n",
       "    <tr>\n",
       "      <th>Best Customer</th>\n",
       "      <td>58.2</td>\n",
       "      <td>6.1</td>\n",
       "      <td>130.7</td>\n",
       "      <td>2052</td>\n",
       "    </tr>\n",
       "  </tbody>\n",
       "</table>\n",
       "</div>"
      ],
      "text/plain": [
       "                  Recency  Frequency  Monetary  Count Customers\n",
       "Customer_Type                                                  \n",
       "At Risk Customer    235.8        2.5      47.2             2766\n",
       "Average Customer     62.8        2.8      45.3             4655\n",
       "Best Customer        58.2        6.1     130.7             2052"
      ]
     },
     "execution_count": 165,
     "metadata": {},
     "output_type": "execute_result"
    }
   ],
   "source": [
    "# show data\n",
    "rfm_datas_agg"
   ]
  },
  {
   "cell_type": "markdown",
   "id": "1400b465",
   "metadata": {},
   "source": [
    "- Here we got characteristic of each customer using average value\n",
    "- As average revenue per segment, the highest come from best customers\n",
    "- But most our customers are average customers"
   ]
  },
  {
   "cell_type": "code",
   "execution_count": 166,
   "id": "2fc8ec2b",
   "metadata": {},
   "outputs": [
    {
     "data": {
      "text/html": [
       "<div>\n",
       "<style scoped>\n",
       "    .dataframe tbody tr th:only-of-type {\n",
       "        vertical-align: middle;\n",
       "    }\n",
       "\n",
       "    .dataframe tbody tr th {\n",
       "        vertical-align: top;\n",
       "    }\n",
       "\n",
       "    .dataframe thead th {\n",
       "        text-align: right;\n",
       "    }\n",
       "</style>\n",
       "<table border=\"1\" class=\"dataframe\">\n",
       "  <thead>\n",
       "    <tr style=\"text-align: right;\">\n",
       "      <th></th>\n",
       "      <th>Recency</th>\n",
       "      <th>Frequency</th>\n",
       "      <th>Monetary</th>\n",
       "      <th>Count Customers</th>\n",
       "      <th>pctg revenue</th>\n",
       "    </tr>\n",
       "    <tr>\n",
       "      <th>Customer_Type</th>\n",
       "      <th></th>\n",
       "      <th></th>\n",
       "      <th></th>\n",
       "      <th></th>\n",
       "      <th></th>\n",
       "    </tr>\n",
       "  </thead>\n",
       "  <tbody>\n",
       "    <tr>\n",
       "      <th>At Risk Customer</th>\n",
       "      <td>235.8</td>\n",
       "      <td>2.5</td>\n",
       "      <td>47.2</td>\n",
       "      <td>2766</td>\n",
       "      <td>21.42</td>\n",
       "    </tr>\n",
       "    <tr>\n",
       "      <th>Average Customer</th>\n",
       "      <td>62.8</td>\n",
       "      <td>2.8</td>\n",
       "      <td>45.3</td>\n",
       "      <td>4655</td>\n",
       "      <td>34.59</td>\n",
       "    </tr>\n",
       "    <tr>\n",
       "      <th>Best Customer</th>\n",
       "      <td>58.2</td>\n",
       "      <td>6.1</td>\n",
       "      <td>130.7</td>\n",
       "      <td>2052</td>\n",
       "      <td>43.99</td>\n",
       "    </tr>\n",
       "  </tbody>\n",
       "</table>\n",
       "</div>"
      ],
      "text/plain": [
       "                  Recency  Frequency  Monetary  Count Customers  pctg revenue\n",
       "Customer_Type                                                                \n",
       "At Risk Customer    235.8        2.5      47.2             2766         21.42\n",
       "Average Customer     62.8        2.8      45.3             4655         34.59\n",
       "Best Customer        58.2        6.1     130.7             2052         43.99"
      ]
     },
     "execution_count": 166,
     "metadata": {},
     "output_type": "execute_result"
    }
   ],
   "source": [
    "# create percentage revenue per segments\n",
    "rfm_datas_agg['pctg revenue'] = np.round(rfm_datas_agg['Monetary']*rfm_datas_agg['Count Customers']/(rfm_datas_agg['Monetary']*rfm_datas_agg['Count Customers']).sum()*100,2)\n",
    "\n",
    "#show data\n",
    "rfm_datas_agg"
   ]
  },
  {
   "cell_type": "markdown",
   "id": "641ccec2",
   "metadata": {},
   "source": [
    "- Most our revenue come from the best customer segment\n",
    "- **In short Term**, we can focus to give marketing initiative to **best & average customers** with several types of promotion: e.g., discount, upselling, cross-selling\n",
    "- **In long term**, we need to retail all customers. In simple term, we should know the reason why customer leave/stay with our company, give them loyalty program each segments, and treat the potential churn customer with discount promotion\n",
    "\n",
    "<br>\n",
    "\n",
    "we'll give specific recommendation for this case"
   ]
  },
  {
   "cell_type": "markdown",
   "id": "ae07f2c1",
   "metadata": {},
   "source": [
    "In this analysis, we want to know\n",
    "- the average price every segment in raw data\n",
    "- the average quanity order each segment in raw data"
   ]
  },
  {
   "cell_type": "code",
   "execution_count": 167,
   "id": "6a3c7b0b",
   "metadata": {},
   "outputs": [
    {
     "data": {
      "text/html": [
       "<div>\n",
       "<style scoped>\n",
       "    .dataframe tbody tr th:only-of-type {\n",
       "        vertical-align: middle;\n",
       "    }\n",
       "\n",
       "    .dataframe tbody tr th {\n",
       "        vertical-align: top;\n",
       "    }\n",
       "\n",
       "    .dataframe thead th {\n",
       "        text-align: right;\n",
       "    }\n",
       "</style>\n",
       "<table border=\"1\" class=\"dataframe\">\n",
       "  <thead>\n",
       "    <tr style=\"text-align: right;\">\n",
       "      <th></th>\n",
       "      <th>Customer_ID</th>\n",
       "      <th>Customer_Type</th>\n",
       "    </tr>\n",
       "  </thead>\n",
       "  <tbody>\n",
       "    <tr>\n",
       "      <th>0</th>\n",
       "      <td>2</td>\n",
       "      <td>At Risk Customer</td>\n",
       "    </tr>\n",
       "    <tr>\n",
       "      <th>1</th>\n",
       "      <td>4</td>\n",
       "      <td>Average Customer</td>\n",
       "    </tr>\n",
       "    <tr>\n",
       "      <th>2</th>\n",
       "      <td>5</td>\n",
       "      <td>Best Customer</td>\n",
       "    </tr>\n",
       "    <tr>\n",
       "      <th>3</th>\n",
       "      <td>13</td>\n",
       "      <td>Average Customer</td>\n",
       "    </tr>\n",
       "    <tr>\n",
       "      <th>4</th>\n",
       "      <td>16</td>\n",
       "      <td>At Risk Customer</td>\n",
       "    </tr>\n",
       "  </tbody>\n",
       "</table>\n",
       "</div>"
      ],
      "text/plain": [
       "   Customer_ID     Customer_Type\n",
       "0            2  At Risk Customer\n",
       "1            4  Average Customer\n",
       "2            5     Best Customer\n",
       "3           13  Average Customer\n",
       "4           16  At Risk Customer"
      ]
     },
     "execution_count": 167,
     "metadata": {},
     "output_type": "execute_result"
    }
   ],
   "source": [
    "# create copy\n",
    "customer_segments = data_cluster.copy().reset_index()\n",
    "\n",
    "# use customer id and customer type\n",
    "customer_segments = customer_segments[['Customer_ID', 'Customer_Type']]\n",
    "\n",
    "# show data\n",
    "customer_segments.head()"
   ]
  },
  {
   "cell_type": "code",
   "execution_count": 168,
   "id": "9f528035",
   "metadata": {},
   "outputs": [
    {
     "data": {
      "text/html": [
       "<div>\n",
       "<style scoped>\n",
       "    .dataframe tbody tr th:only-of-type {\n",
       "        vertical-align: middle;\n",
       "    }\n",
       "\n",
       "    .dataframe tbody tr th {\n",
       "        vertical-align: top;\n",
       "    }\n",
       "\n",
       "    .dataframe thead th {\n",
       "        text-align: right;\n",
       "    }\n",
       "</style>\n",
       "<table border=\"1\" class=\"dataframe\">\n",
       "  <thead>\n",
       "    <tr style=\"text-align: right;\">\n",
       "      <th></th>\n",
       "      <th>Date</th>\n",
       "      <th>Customer_ID</th>\n",
       "      <th>Transaction_ID</th>\n",
       "      <th>SKU_Category</th>\n",
       "      <th>SKU</th>\n",
       "      <th>Quantity</th>\n",
       "      <th>Sales_Amount</th>\n",
       "    </tr>\n",
       "  </thead>\n",
       "  <tbody>\n",
       "    <tr>\n",
       "      <th>1</th>\n",
       "      <td>2016-02-01</td>\n",
       "      <td>2547</td>\n",
       "      <td>1</td>\n",
       "      <td>X52</td>\n",
       "      <td>0EM7L</td>\n",
       "      <td>1.0</td>\n",
       "      <td>3.13</td>\n",
       "    </tr>\n",
       "    <tr>\n",
       "      <th>2</th>\n",
       "      <td>2016-02-01</td>\n",
       "      <td>822</td>\n",
       "      <td>2</td>\n",
       "      <td>2ML</td>\n",
       "      <td>68BRQ</td>\n",
       "      <td>1.0</td>\n",
       "      <td>5.46</td>\n",
       "    </tr>\n",
       "    <tr>\n",
       "      <th>3</th>\n",
       "      <td>2016-02-01</td>\n",
       "      <td>3686</td>\n",
       "      <td>3</td>\n",
       "      <td>0H2</td>\n",
       "      <td>CZUZX</td>\n",
       "      <td>1.0</td>\n",
       "      <td>6.35</td>\n",
       "    </tr>\n",
       "    <tr>\n",
       "      <th>4</th>\n",
       "      <td>2016-02-01</td>\n",
       "      <td>3719</td>\n",
       "      <td>4</td>\n",
       "      <td>0H2</td>\n",
       "      <td>549KK</td>\n",
       "      <td>1.0</td>\n",
       "      <td>5.59</td>\n",
       "    </tr>\n",
       "    <tr>\n",
       "      <th>5</th>\n",
       "      <td>2016-02-01</td>\n",
       "      <td>9200</td>\n",
       "      <td>5</td>\n",
       "      <td>0H2</td>\n",
       "      <td>K8EHH</td>\n",
       "      <td>1.0</td>\n",
       "      <td>6.88</td>\n",
       "    </tr>\n",
       "  </tbody>\n",
       "</table>\n",
       "</div>"
      ],
      "text/plain": [
       "        Date  Customer_ID  Transaction_ID SKU_Category    SKU  Quantity  \\\n",
       "1 2016-02-01         2547               1          X52  0EM7L       1.0   \n",
       "2 2016-02-01          822               2          2ML  68BRQ       1.0   \n",
       "3 2016-02-01         3686               3          0H2  CZUZX       1.0   \n",
       "4 2016-02-01         3719               4          0H2  549KK       1.0   \n",
       "5 2016-02-01         9200               5          0H2  K8EHH       1.0   \n",
       "\n",
       "   Sales_Amount  \n",
       "1          3.13  \n",
       "2          5.46  \n",
       "3          6.35  \n",
       "4          5.59  \n",
       "5          6.88  "
      ]
     },
     "execution_count": 168,
     "metadata": {},
     "output_type": "execute_result"
    }
   ],
   "source": [
    "# copy data\n",
    "trx_df = data.copy()\n",
    "\n",
    "# drop missing values\n",
    "trx_df = trx_df.dropna()\n",
    "\n",
    "# make customer ID as int\n",
    "trx_df['Customer_ID'] = trx_df['Customer_ID'].astype(int)\n",
    "\n",
    "# show data\n",
    "trx_df.head()"
   ]
  },
  {
   "cell_type": "code",
   "execution_count": 169,
   "id": "21926169",
   "metadata": {},
   "outputs": [
    {
     "data": {
      "text/plain": [
       "Date              0\n",
       "Customer_ID       0\n",
       "Transaction_ID    0\n",
       "SKU_Category      0\n",
       "SKU               0\n",
       "Quantity          0\n",
       "Sales_Amount      0\n",
       "dtype: int64"
      ]
     },
     "execution_count": 169,
     "metadata": {},
     "output_type": "execute_result"
    }
   ],
   "source": [
    "# check missing values\n",
    "trx_df.isna().sum()"
   ]
  },
  {
   "cell_type": "code",
   "execution_count": 170,
   "id": "67878b04",
   "metadata": {},
   "outputs": [],
   "source": [
    "# Merge the 'trx_df' DataFrame with the 'customer_segments' DataFrame on the 'Customer ID' column\n",
    "trx_df = trx_df.merge(customer_segments[['Customer_ID', 'Customer_Type']], on='Customer_ID', how='left')"
   ]
  },
  {
   "cell_type": "code",
   "execution_count": 171,
   "id": "d27f79e0",
   "metadata": {},
   "outputs": [
    {
     "data": {
      "text/html": [
       "<div>\n",
       "<style scoped>\n",
       "    .dataframe tbody tr th:only-of-type {\n",
       "        vertical-align: middle;\n",
       "    }\n",
       "\n",
       "    .dataframe tbody tr th {\n",
       "        vertical-align: top;\n",
       "    }\n",
       "\n",
       "    .dataframe thead th {\n",
       "        text-align: right;\n",
       "    }\n",
       "</style>\n",
       "<table border=\"1\" class=\"dataframe\">\n",
       "  <thead>\n",
       "    <tr style=\"text-align: right;\">\n",
       "      <th></th>\n",
       "      <th>Date</th>\n",
       "      <th>Customer_ID</th>\n",
       "      <th>Transaction_ID</th>\n",
       "      <th>SKU_Category</th>\n",
       "      <th>SKU</th>\n",
       "      <th>Quantity</th>\n",
       "      <th>Sales_Amount</th>\n",
       "      <th>Customer_Type</th>\n",
       "    </tr>\n",
       "  </thead>\n",
       "  <tbody>\n",
       "    <tr>\n",
       "      <th>0</th>\n",
       "      <td>2016-02-01</td>\n",
       "      <td>2547</td>\n",
       "      <td>1</td>\n",
       "      <td>X52</td>\n",
       "      <td>0EM7L</td>\n",
       "      <td>1.0</td>\n",
       "      <td>3.13</td>\n",
       "      <td>Best Customer</td>\n",
       "    </tr>\n",
       "    <tr>\n",
       "      <th>1</th>\n",
       "      <td>2016-02-01</td>\n",
       "      <td>822</td>\n",
       "      <td>2</td>\n",
       "      <td>2ML</td>\n",
       "      <td>68BRQ</td>\n",
       "      <td>1.0</td>\n",
       "      <td>5.46</td>\n",
       "      <td>At Risk Customer</td>\n",
       "    </tr>\n",
       "    <tr>\n",
       "      <th>2</th>\n",
       "      <td>2016-02-01</td>\n",
       "      <td>3686</td>\n",
       "      <td>3</td>\n",
       "      <td>0H2</td>\n",
       "      <td>CZUZX</td>\n",
       "      <td>1.0</td>\n",
       "      <td>6.35</td>\n",
       "      <td>NaN</td>\n",
       "    </tr>\n",
       "    <tr>\n",
       "      <th>3</th>\n",
       "      <td>2016-02-01</td>\n",
       "      <td>3719</td>\n",
       "      <td>4</td>\n",
       "      <td>0H2</td>\n",
       "      <td>549KK</td>\n",
       "      <td>1.0</td>\n",
       "      <td>5.59</td>\n",
       "      <td>NaN</td>\n",
       "    </tr>\n",
       "    <tr>\n",
       "      <th>4</th>\n",
       "      <td>2016-02-01</td>\n",
       "      <td>9200</td>\n",
       "      <td>5</td>\n",
       "      <td>0H2</td>\n",
       "      <td>K8EHH</td>\n",
       "      <td>1.0</td>\n",
       "      <td>6.88</td>\n",
       "      <td>Average Customer</td>\n",
       "    </tr>\n",
       "  </tbody>\n",
       "</table>\n",
       "</div>"
      ],
      "text/plain": [
       "        Date  Customer_ID  Transaction_ID SKU_Category    SKU  Quantity  \\\n",
       "0 2016-02-01         2547               1          X52  0EM7L       1.0   \n",
       "1 2016-02-01          822               2          2ML  68BRQ       1.0   \n",
       "2 2016-02-01         3686               3          0H2  CZUZX       1.0   \n",
       "3 2016-02-01         3719               4          0H2  549KK       1.0   \n",
       "4 2016-02-01         9200               5          0H2  K8EHH       1.0   \n",
       "\n",
       "   Sales_Amount     Customer_Type  \n",
       "0          3.13     Best Customer  \n",
       "1          5.46  At Risk Customer  \n",
       "2          6.35               NaN  \n",
       "3          5.59               NaN  \n",
       "4          6.88  Average Customer  "
      ]
     },
     "execution_count": 171,
     "metadata": {},
     "output_type": "execute_result"
    }
   ],
   "source": [
    "# shanity check\n",
    "trx_df.head()"
   ]
  },
  {
   "cell_type": "code",
   "execution_count": 172,
   "id": "07e9cdf4",
   "metadata": {},
   "outputs": [
    {
     "data": {
      "text/plain": [
       "Date                  0\n",
       "Customer_ID           0\n",
       "Transaction_ID        0\n",
       "SKU_Category          0\n",
       "SKU                   0\n",
       "Quantity              0\n",
       "Sales_Amount          0\n",
       "Customer_Type     71194\n",
       "dtype: int64"
      ]
     },
     "execution_count": 172,
     "metadata": {},
     "output_type": "execute_result"
    }
   ],
   "source": [
    "# check missing values\n",
    "trx_df.isna().sum()"
   ]
  },
  {
   "cell_type": "code",
   "execution_count": 173,
   "id": "cb97a2fc",
   "metadata": {},
   "outputs": [
    {
     "data": {
      "text/html": [
       "<div>\n",
       "<style scoped>\n",
       "    .dataframe tbody tr th:only-of-type {\n",
       "        vertical-align: middle;\n",
       "    }\n",
       "\n",
       "    .dataframe tbody tr th {\n",
       "        vertical-align: top;\n",
       "    }\n",
       "\n",
       "    .dataframe thead th {\n",
       "        text-align: right;\n",
       "    }\n",
       "</style>\n",
       "<table border=\"1\" class=\"dataframe\">\n",
       "  <thead>\n",
       "    <tr style=\"text-align: right;\">\n",
       "      <th></th>\n",
       "      <th>Date</th>\n",
       "      <th>Customer_ID</th>\n",
       "      <th>Transaction_ID</th>\n",
       "      <th>SKU_Category</th>\n",
       "      <th>SKU</th>\n",
       "      <th>Quantity</th>\n",
       "      <th>Sales_Amount</th>\n",
       "      <th>Customer_Type</th>\n",
       "    </tr>\n",
       "  </thead>\n",
       "  <tbody>\n",
       "    <tr>\n",
       "      <th>70013</th>\n",
       "      <td>2016-08-15</td>\n",
       "      <td>16025</td>\n",
       "      <td>39196</td>\n",
       "      <td>QV7</td>\n",
       "      <td>FZM7U</td>\n",
       "      <td>1.0</td>\n",
       "      <td>8.62</td>\n",
       "      <td>NaN</td>\n",
       "    </tr>\n",
       "    <tr>\n",
       "      <th>65194</th>\n",
       "      <td>2016-06-30</td>\n",
       "      <td>17658</td>\n",
       "      <td>32323</td>\n",
       "      <td>IEV</td>\n",
       "      <td>KRX6I</td>\n",
       "      <td>2.0</td>\n",
       "      <td>3.53</td>\n",
       "      <td>NaN</td>\n",
       "    </tr>\n",
       "    <tr>\n",
       "      <th>49511</th>\n",
       "      <td>2016-05-18</td>\n",
       "      <td>15677</td>\n",
       "      <td>24569</td>\n",
       "      <td>2ML</td>\n",
       "      <td>3SZO0</td>\n",
       "      <td>1.0</td>\n",
       "      <td>8.12</td>\n",
       "      <td>NaN</td>\n",
       "    </tr>\n",
       "    <tr>\n",
       "      <th>11080</th>\n",
       "      <td>2016-03-02</td>\n",
       "      <td>2490</td>\n",
       "      <td>5319</td>\n",
       "      <td>I4Y</td>\n",
       "      <td>8ETY5</td>\n",
       "      <td>1.0</td>\n",
       "      <td>8.04</td>\n",
       "      <td>NaN</td>\n",
       "    </tr>\n",
       "    <tr>\n",
       "      <th>33805</th>\n",
       "      <td>2016-07-04</td>\n",
       "      <td>3751</td>\n",
       "      <td>16569</td>\n",
       "      <td>9ZX</td>\n",
       "      <td>9Y7M0</td>\n",
       "      <td>3.0</td>\n",
       "      <td>39.15</td>\n",
       "      <td>NaN</td>\n",
       "    </tr>\n",
       "  </tbody>\n",
       "</table>\n",
       "</div>"
      ],
      "text/plain": [
       "            Date  Customer_ID  Transaction_ID SKU_Category    SKU  Quantity  \\\n",
       "70013 2016-08-15        16025           39196          QV7  FZM7U       1.0   \n",
       "65194 2016-06-30        17658           32323          IEV  KRX6I       2.0   \n",
       "49511 2016-05-18        15677           24569          2ML  3SZO0       1.0   \n",
       "11080 2016-03-02         2490            5319          I4Y  8ETY5       1.0   \n",
       "33805 2016-07-04         3751           16569          9ZX  9Y7M0       3.0   \n",
       "\n",
       "       Sales_Amount Customer_Type  \n",
       "70013          8.62           NaN  \n",
       "65194          3.53           NaN  \n",
       "49511          8.12           NaN  \n",
       "11080          8.04           NaN  \n",
       "33805         39.15           NaN  "
      ]
     },
     "execution_count": 173,
     "metadata": {},
     "output_type": "execute_result"
    }
   ],
   "source": [
    "# Let's check the missing value location\n",
    "trx_df[trx_df['Customer_Type'].isna()].sample(5, random_state=41)"
   ]
  },
  {
   "cell_type": "code",
   "execution_count": 174,
   "id": "0d46da41",
   "metadata": {},
   "outputs": [
    {
     "data": {
      "text/html": [
       "<div>\n",
       "<style scoped>\n",
       "    .dataframe tbody tr th:only-of-type {\n",
       "        vertical-align: middle;\n",
       "    }\n",
       "\n",
       "    .dataframe tbody tr th {\n",
       "        vertical-align: top;\n",
       "    }\n",
       "\n",
       "    .dataframe thead th {\n",
       "        text-align: right;\n",
       "    }\n",
       "</style>\n",
       "<table border=\"1\" class=\"dataframe\">\n",
       "  <thead>\n",
       "    <tr style=\"text-align: right;\">\n",
       "      <th></th>\n",
       "      <th>Customer_ID</th>\n",
       "      <th>Customer_Type</th>\n",
       "    </tr>\n",
       "  </thead>\n",
       "  <tbody>\n",
       "  </tbody>\n",
       "</table>\n",
       "</div>"
      ],
      "text/plain": [
       "Empty DataFrame\n",
       "Columns: [Customer_ID, Customer_Type]\n",
       "Index: []"
      ]
     },
     "execution_count": 174,
     "metadata": {},
     "output_type": "execute_result"
    }
   ],
   "source": [
    "# let's check customer ID that missing in customer_segments data\n",
    "customer_segments[customer_segments['Customer_ID']==16025]"
   ]
  },
  {
   "cell_type": "markdown",
   "id": "cc8c92eb",
   "metadata": {},
   "source": [
    "Summary\n",
    "- We couldn't find the customer ID in customer_segment data\n",
    "- Missing values occurs because we've already dropped these customer ID because 2 reason: outliers or one time purchaser"
   ]
  },
  {
   "cell_type": "code",
   "execution_count": 175,
   "id": "94ba2936",
   "metadata": {},
   "outputs": [
    {
     "data": {
      "text/html": [
       "<div>\n",
       "<style scoped>\n",
       "    .dataframe tbody tr th:only-of-type {\n",
       "        vertical-align: middle;\n",
       "    }\n",
       "\n",
       "    .dataframe tbody tr th {\n",
       "        vertical-align: top;\n",
       "    }\n",
       "\n",
       "    .dataframe thead tr th {\n",
       "        text-align: left;\n",
       "    }\n",
       "\n",
       "    .dataframe thead tr:last-of-type th {\n",
       "        text-align: right;\n",
       "    }\n",
       "</style>\n",
       "<table border=\"1\" class=\"dataframe\">\n",
       "  <thead>\n",
       "    <tr>\n",
       "      <th></th>\n",
       "      <th colspan=\"3\" halign=\"left\">Sales_Amount</th>\n",
       "      <th colspan=\"3\" halign=\"left\">Quantity</th>\n",
       "    </tr>\n",
       "    <tr>\n",
       "      <th></th>\n",
       "      <th>min</th>\n",
       "      <th>mean</th>\n",
       "      <th>max</th>\n",
       "      <th>min</th>\n",
       "      <th>mean</th>\n",
       "      <th>max</th>\n",
       "    </tr>\n",
       "    <tr>\n",
       "      <th>Customer_Type</th>\n",
       "      <th></th>\n",
       "      <th></th>\n",
       "      <th></th>\n",
       "      <th></th>\n",
       "      <th></th>\n",
       "      <th></th>\n",
       "    </tr>\n",
       "  </thead>\n",
       "  <tbody>\n",
       "    <tr>\n",
       "      <th>At Risk Customer</th>\n",
       "      <td>0.02</td>\n",
       "      <td>10.084614</td>\n",
       "      <td>218.17</td>\n",
       "      <td>0.10</td>\n",
       "      <td>1.401426</td>\n",
       "      <td>100.0</td>\n",
       "    </tr>\n",
       "    <tr>\n",
       "      <th>Average Customer</th>\n",
       "      <td>0.02</td>\n",
       "      <td>9.272486</td>\n",
       "      <td>226.06</td>\n",
       "      <td>0.10</td>\n",
       "      <td>1.388266</td>\n",
       "      <td>200.0</td>\n",
       "    </tr>\n",
       "    <tr>\n",
       "      <th>Best Customer</th>\n",
       "      <td>0.02</td>\n",
       "      <td>10.814453</td>\n",
       "      <td>272.16</td>\n",
       "      <td>0.01</td>\n",
       "      <td>1.470701</td>\n",
       "      <td>200.0</td>\n",
       "    </tr>\n",
       "  </tbody>\n",
       "</table>\n",
       "</div>"
      ],
      "text/plain": [
       "                 Sales_Amount                    Quantity                 \n",
       "                          min       mean     max      min      mean    max\n",
       "Customer_Type                                                             \n",
       "At Risk Customer         0.02  10.084614  218.17     0.10  1.401426  100.0\n",
       "Average Customer         0.02   9.272486  226.06     0.10  1.388266  200.0\n",
       "Best Customer            0.02  10.814453  272.16     0.01  1.470701  200.0"
      ]
     },
     "execution_count": 175,
     "metadata": {},
     "output_type": "execute_result"
    }
   ],
   "source": [
    "# group by customer_type\n",
    "grouped_segment = trx_df.groupby('Customer_Type').agg({'Sales_Amount':['min','mean','max'],\n",
    "                                                       'Quantity':['min','mean','max']})\n",
    "\n",
    "# show the data\n",
    "grouped_segment"
   ]
  },
  {
   "cell_type": "markdown",
   "id": "e001007c",
   "metadata": {},
   "source": [
    "- Typically, best customer tends to purchase with higher quantity and higher price (we can see by max aggregate that has significantly different each of customer type)\n",
    "- But because the average price and quaitity aren't significantly different, we can't set specific price / quantity\n",
    " based promotion (e.g., buy 3 get 1 free) for each segments\n",
    "- We can only set the upper boundary for setting the price / quantity promotion\n",
    "- Average customers have slightly lower price preference than at risk customer but higher in quantity order (see the max of price and max quantity)\n",
    "\n",
    "\n",
    "we can use this information for recommendation"
   ]
  },
  {
   "cell_type": "markdown",
   "id": "a4d0e1eb",
   "metadata": {},
   "source": [
    "## **8.2 Recommendation for Short & Long Term Game**"
   ]
  },
  {
   "cell_type": "markdown",
   "id": "c17e3d0d",
   "metadata": {},
   "source": [
    "**Busienss Objective**\n",
    "- Company CoM amis to personalize marketing strategies to increase customer retention (achieve average monthly retention > 30%) and maximize revenue with effective marketing spending in the next 4 months\n",
    "- The company also wants to identify high-value customers to give them personalized marketing"
   ]
  },
  {
   "cell_type": "markdown",
   "id": "8813cab9",
   "metadata": {},
   "source": [
    "**At Risk Customers:**\n",
    "\n",
    "*Short Term:*\n",
    "- Send personalized re-engagement emails with special offers to entice them to make another purchase.\n",
    "- Implement a loyalty program with rewards to incentivize repeat purchases.\n",
    "- Use retargeting ads on social media and online platforms to remind them of your products or services.\n",
    "\n",
    "*Long Term:*\n",
    "- Continuously monitor and improve the customer experience to prevent them from becoming \"At Risk\" in the future.\n",
    "- Offer exclusive membership benefits to encourage long-term loyalty.\n",
    "- Implement a referral program to turn satisfied customers into brand advocates.\n",
    "\n",
    "**Average Customers:**\n",
    "\n",
    "*Short Term:*\n",
    "- Send appreciation emails with a limited-time discount to boost their next purchase.\n",
    "- Recommend complementary products or services based on their previous purchases.\n",
    "- Create urgency with flash sales and limited-time promotions.\n",
    "\n",
    "*Long Term:*\n",
    "- Gradually introduce them to higher-tier products or services as they become more loyal.\n",
    "- Personalize their experience based on their browsing and purchase history.\n",
    "- Provide excellent customer service to build a long-term relationship.\n",
    "\n",
    "**Best Customers:**\n",
    "\n",
    "*Short Term:*\n",
    "- Offer early access to new products or exclusive sales events.\n",
    "- Send personalized thank-you notes or gifts to express appreciation.\n",
    "- Provide VIP customer support with faster response times.\n",
    "\n",
    "*Long Term:*\n",
    "- Maintain regular communication to keep them engaged and informed about new offerings.\n",
    "- Create a VIP loyalty program with tiered benefits and rewards.\n",
    "- Solicit feedback and involve them in product development to strengthen their loyalty.\n",
    "\n",
    "These strategies aim to address the immediate needs of each customer segment while also fostering long-term relationships and loyalty. Adapt and refine these approaches based on your specific industry, business model, and customer preferences using Markdown formatting."
   ]
  }
 ],
 "metadata": {
  "kernelspec": {
   "display_name": "env_d",
   "language": "python",
   "name": "env_d"
  },
  "language_info": {
   "codemirror_mode": {
    "name": "ipython",
    "version": 3
   },
   "file_extension": ".py",
   "mimetype": "text/x-python",
   "name": "python",
   "nbconvert_exporter": "python",
   "pygments_lexer": "ipython3",
   "version": "3.11.0"
  }
 },
 "nbformat": 4,
 "nbformat_minor": 5
}
